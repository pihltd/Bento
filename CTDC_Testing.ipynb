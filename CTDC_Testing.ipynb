{
 "cells": [
  {
   "cell_type": "code",
   "execution_count": 1,
   "metadata": {},
   "outputs": [
    {
     "name": "stdout",
     "output_type": "stream",
     "text": [
      "Requirement already satisfied: requests in /home/pihl/jupyter/jupyterenv/lib/python3.7/site-packages (2.22.0)\n",
      "Requirement already satisfied: chardet<3.1.0,>=3.0.2 in /home/pihl/jupyter/jupyterenv/lib/python3.7/site-packages (from requests) (3.0.4)\n",
      "Requirement already satisfied: idna<2.9,>=2.5 in /home/pihl/jupyter/jupyterenv/lib/python3.7/site-packages (from requests) (2.8)\n",
      "Requirement already satisfied: certifi>=2017.4.17 in /home/pihl/jupyter/jupyterenv/lib/python3.7/site-packages (from requests) (2019.11.28)\n",
      "Requirement already satisfied: urllib3!=1.25.0,!=1.25.1,<1.26,>=1.21.1 in /home/pihl/jupyter/jupyterenv/lib/python3.7/site-packages (from requests) (1.25.7)\n",
      "\u001b[33mWARNING: You are using pip version 19.3.1; however, version 20.0.1 is available.\n",
      "You should consider upgrading via the 'pip install --upgrade pip' command.\u001b[0m\n",
      "Requirement already satisfied: plotly in /home/pihl/jupyter/jupyterenv/lib/python3.7/site-packages (4.4.1)\n",
      "Requirement already satisfied: retrying>=1.3.3 in /home/pihl/jupyter/jupyterenv/lib/python3.7/site-packages (from plotly) (1.3.3)\n",
      "Requirement already satisfied: six in /home/pihl/jupyter/jupyterenv/lib/python3.7/site-packages (from plotly) (1.12.0)\n",
      "\u001b[33mWARNING: You are using pip version 19.3.1; however, version 20.0.1 is available.\n",
      "You should consider upgrading via the 'pip install --upgrade pip' command.\u001b[0m\n",
      "Requirement already satisfied: pandas in /home/pihl/jupyter/jupyterenv/lib/python3.7/site-packages (0.25.3)\n",
      "Requirement already satisfied: pytz>=2017.2 in /home/pihl/jupyter/jupyterenv/lib/python3.7/site-packages (from pandas) (2019.3)\n",
      "Requirement already satisfied: numpy>=1.13.3 in /home/pihl/jupyter/jupyterenv/lib/python3.7/site-packages (from pandas) (1.17.4)\n",
      "Requirement already satisfied: python-dateutil>=2.6.1 in /home/pihl/jupyter/jupyterenv/lib/python3.7/site-packages (from pandas) (2.8.0)\n",
      "Requirement already satisfied: six>=1.5 in /home/pihl/jupyter/jupyterenv/lib/python3.7/site-packages (from python-dateutil>=2.6.1->pandas) (1.12.0)\n",
      "\u001b[33mWARNING: You are using pip version 19.3.1; however, version 20.0.1 is available.\n",
      "You should consider upgrading via the 'pip install --upgrade pip' command.\u001b[0m\n",
      "Requirement already satisfied: pprint in /home/pihl/jupyter/jupyterenv/lib/python3.7/site-packages (0.1)\n",
      "\u001b[33mWARNING: You are using pip version 19.3.1; however, version 20.0.1 is available.\n",
      "You should consider upgrading via the 'pip install --upgrade pip' command.\u001b[0m\n",
      "Collecting matplotlib\n",
      "\u001b[?25l  Downloading https://files.pythonhosted.org/packages/61/42/3e92d7aa64295483fbca20a86c89b34d0cb43cffaadaffe028793902d790/matplotlib-3.1.2-cp37-cp37m-manylinux1_x86_64.whl (13.1MB)\n",
      "\u001b[K     |████████████████████████████████| 13.1MB 33.6MB/s eta 0:00:01   |███▏                            | 1.3MB 5.5MB/s eta 0:00:03     |██████▎                         | 2.6MB 5.5MB/s eta 0:00:02     |████████▌                       | 3.5MB 5.5MB/s eta 0:00:02     |█████████████                   | 5.3MB 5.5MB/s eta 0:00:02     |███████████████▎                | 6.3MB 5.5MB/s eta 0:00:02     |██████████████████              | 7.4MB 5.5MB/s eta 0:00:02     |████████████████████            | 8.2MB 5.5MB/s eta 0:00:01     |█████████████████████           | 8.6MB 5.5MB/s eta 0:00:01     |█████████████████████████▏      | 10.4MB 33.6MB/s eta 0:00:01     |████████████████████████████    | 11.5MB 33.6MB/s eta 0:00:01\n",
      "\u001b[?25hCollecting pyparsing!=2.0.4,!=2.1.2,!=2.1.6,>=2.0.1\n",
      "\u001b[?25l  Downloading https://files.pythonhosted.org/packages/5d/bc/1e58593167fade7b544bfe9502a26dc860940a79ab306e651e7f13be68c2/pyparsing-2.4.6-py2.py3-none-any.whl (67kB)\n",
      "\u001b[K     |████████████████████████████████| 71kB 5.8MB/s  eta 0:00:01\n",
      "\u001b[?25hRequirement already satisfied: python-dateutil>=2.1 in /home/pihl/jupyter/jupyterenv/lib/python3.7/site-packages (from matplotlib) (2.8.0)\n",
      "Collecting kiwisolver>=1.0.1\n",
      "\u001b[?25l  Downloading https://files.pythonhosted.org/packages/93/f8/518fb0bb89860eea6ff1b96483fbd9236d5ee991485d0f3eceff1770f654/kiwisolver-1.1.0-cp37-cp37m-manylinux1_x86_64.whl (90kB)\n",
      "\u001b[K     |████████████████████████████████| 92kB 3.3MB/s eta 0:00:011     |██████████▉                     | 30kB 18.2MB/s eta 0:00:01\n",
      "\u001b[?25hCollecting cycler>=0.10\n",
      "  Downloading https://files.pythonhosted.org/packages/f7/d2/e07d3ebb2bd7af696440ce7e754c59dd546ffe1bbe732c8ab68b9c834e61/cycler-0.10.0-py2.py3-none-any.whl\n",
      "Requirement already satisfied: numpy>=1.11 in /home/pihl/jupyter/jupyterenv/lib/python3.7/site-packages (from matplotlib) (1.17.4)\n",
      "Requirement already satisfied: six>=1.5 in /home/pihl/jupyter/jupyterenv/lib/python3.7/site-packages (from python-dateutil>=2.1->matplotlib) (1.12.0)\n",
      "Requirement already satisfied: setuptools in /home/pihl/jupyter/jupyterenv/lib/python3.7/site-packages (from kiwisolver>=1.0.1->matplotlib) (41.4.0)\n",
      "Installing collected packages: pyparsing, kiwisolver, cycler, matplotlib\n",
      "Successfully installed cycler-0.10.0 kiwisolver-1.1.0 matplotlib-3.1.2 pyparsing-2.4.6\n",
      "\u001b[33mWARNING: You are using pip version 19.3.1; however, version 20.0.1 is available.\n",
      "You should consider upgrading via the 'pip install --upgrade pip' command.\u001b[0m\n"
     ]
    }
   ],
   "source": [
    "! pip install requests\n",
    "! pip install plotly\n",
    "! pip install pandas\n",
    "! pip install pprint\n",
    "! pip install matplotlib"
   ]
  },
  {
   "cell_type": "code",
   "execution_count": 2,
   "metadata": {},
   "outputs": [],
   "source": [
    "import requests\n",
    "import plotly.express as px\n",
    "import plotly\n",
    "from plotly.offline import iplot\n",
    "import pandas as pd\n",
    "import pprint\n",
    "import ctdcQueries as ctdc\n",
    "import matplotlib"
   ]
  },
  {
   "cell_type": "code",
   "execution_count": 3,
   "metadata": {},
   "outputs": [],
   "source": [
    "#General query interface\n",
    "def runQuery(query):\n",
    "    \n",
    "    endpoint = \"https://trialcommons-dev.cancer.gov/v1/graphql/\"\n",
    "    \n",
    "    request = requests.post(endpoint, json={'query': query})\n",
    "    \n",
    "    if request.status_code == 200:\n",
    "        return request.json()\n",
    "    else:\n",
    "        raise Exception(\"Query failed code {}. {}\".format(request.status_code,query))"
   ]
  },
  {
   "cell_type": "code",
   "execution_count": 4,
   "metadata": {},
   "outputs": [],
   "source": [
    "def geneParse(array, dictionary):\n",
    "    for item in array:\n",
    "        gene = item['gene']\n",
    "        if gene in dictionary.keys():\n",
    "            dictionary[gene] = dictionary[gene] + 1\n",
    "        else:\n",
    "            dictionary[gene] = 1\n",
    "    return dictionary"
   ]
  },
  {
   "cell_type": "code",
   "execution_count": 5,
   "metadata": {},
   "outputs": [],
   "source": [
    "def fuseParse(array, dictionary):\n",
    "    for item in array:\n",
    "        genes = []\n",
    "        genes.append(item['gene1'])\n",
    "        genes.append(item['gene2'])\n",
    "        for gene in genes:\n",
    "            if gene in dictionary.keys():\n",
    "                dictionary[gene] = dictionary[gene] + 1\n",
    "            else:\n",
    "                dictionary[gene] = 1\n",
    "        return dictionary"
   ]
  },
  {
   "cell_type": "code",
   "execution_count": 6,
   "metadata": {},
   "outputs": [],
   "source": [
    "def varParse(json):\n",
    "    #Pulls out the genes in the various catgories\n",
    "    delins_final = {}\n",
    "    indel_final = {}\n",
    "    snv_final = {}\n",
    "    fusion_final = {}\n",
    "    copy_final = {}\n",
    "    \n",
    "    reports = json['data']['variant_report']\n",
    "    for report in reports:\n",
    "        fusions = report['gene_fusion_variants']\n",
    "        fuseParse(fusions, fusion_final)\n",
    "        \n",
    "        snvs = report['snv_variants']\n",
    "        geneParse(snvs, snv_final)\n",
    "        \n",
    "        indels = report['indel_variants']\n",
    "        geneParse(indels, indel_final)\n",
    "        \n",
    "        delins = report['delins_variants']\n",
    "        geneParse(delins, delins_final)\n",
    "        \n",
    "        copies = report['copy_number_variants']\n",
    "        geneParse(copies, copy_final)\n",
    "        \n",
    "    full_final = {'delins':delins_final, 'indel':indel_final, 'snv': snv_final, 'fusion':fusion_final, 'copy':copy_final}\n",
    "        \n",
    "    return full_final\n"
   ]
  },
  {
   "cell_type": "code",
   "execution_count": 7,
   "metadata": {},
   "outputs": [],
   "source": [
    "def dataPull():\n",
    "    ctdc.init()\n",
    "    \n",
    "    jsondata = runQuery(ctdc.mutant_genes)\n",
    "    \n",
    "    genedata = varParse(jsondata)\n",
    "    \n",
    "    df = pd.DataFrame(genedata)\n",
    "    \n",
    "    return df\n",
    "    "
   ]
  },
  {
   "cell_type": "code",
   "execution_count": 8,
   "metadata": {},
   "outputs": [
    {
     "name": "stdout",
     "output_type": "stream",
     "text": [
      "         delins  indel  snv  fusion  copy\n",
      "TP53        1.0    NaN  2.0     NaN   NaN\n",
      "KRAS        3.0    NaN  1.0     NaN   NaN\n",
      "BRAF        1.0    NaN  1.0     NaN   NaN\n",
      "APC         NaN    4.0  NaN     NaN   NaN\n",
      "PIK3R1      NaN    2.0  NaN     NaN   NaN\n",
      "BRCA2       NaN    2.0  NaN     NaN   NaN\n",
      "FBXW7       NaN    2.0  NaN     NaN   NaN\n",
      "TET2        NaN    NaN  3.0     NaN   NaN\n",
      "PPP2R1A     NaN    NaN  1.0     NaN   NaN\n",
      "NRAS        NaN    NaN  2.0     NaN   NaN\n",
      "PIK3CA      NaN    NaN  2.0     NaN   1.0\n",
      "RB1         NaN    NaN  1.0     NaN   NaN\n",
      "TMPRSS2     NaN    NaN  NaN     4.0   NaN\n",
      "ERG         NaN    NaN  NaN     4.0   NaN\n",
      "MET         NaN    NaN  NaN     2.0   NaN\n",
      "RBPMS       NaN    NaN  NaN     1.0   NaN\n",
      "NTRK3       NaN    NaN  NaN     1.0   NaN\n",
      "FGFR3       NaN    NaN  NaN     2.0   NaN\n",
      "TACC3       NaN    NaN  NaN     2.0   NaN\n",
      "ERBB2       NaN    NaN  NaN     NaN   3.0\n",
      "LYN         NaN    NaN  NaN     NaN   1.0\n",
      "EGFR        NaN    NaN  NaN     NaN   2.0\n",
      "FGF3        NaN    NaN  NaN     NaN   1.0\n",
      "CUL4A       NaN    NaN  NaN     NaN   1.0\n",
      "CCNE1       NaN    NaN  NaN     NaN   1.0\n",
      "ZNF217      NaN    NaN  NaN     NaN   1.0\n"
     ]
    }
   ],
   "source": [
    "df = dataPull()\n",
    "pprint.pprint(df)"
   ]
  },
  {
   "cell_type": "code",
   "execution_count": 18,
   "metadata": {},
   "outputs": [],
   "source": [
    "def barChart():\n",
    "    df = dataPull()\n",
    "    \n",
    "    df.plot(kind = 'bar', figsize=(10,12))"
   ]
  },
  {
   "cell_type": "code",
   "execution_count": 19,
   "metadata": {},
   "outputs": [
    {
     "data": {
      "image/png": "[encoded data removed]",
      "text/plain": [
       "<Figure size 720x864 with 1 Axes>"
      ]
     },
     "metadata": {
      "needs_background": "light"
     },
     "output_type": "display_data"
    }
   ],
   "source": [
    "barChart()"
   ]
  },
  {
   "cell_type": "code",
   "execution_count": null,
   "metadata": {},
   "outputs": [],
   "source": []
  }
 ],
 "metadata": {
  "kernelspec": {
   "display_name": "Python 3",
   "language": "python",
   "name": "python3"
  },
  "language_info": {
   "codemirror_mode": {
    "name": "ipython",
    "version": 3
   },
   "file_extension": ".py",
   "mimetype": "text/x-python",
   "name": "python",
   "nbconvert_exporter": "python",
   "pygments_lexer": "ipython3",
   "version": "3.7.3"
  }
 },
 "nbformat": 4,
 "nbformat_minor": 2
}
