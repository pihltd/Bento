{
 "cells": [
  {
   "cell_type": "markdown",
   "metadata": {},
   "source": [
    "# Introduction\n",
    "\n",
    "The Integrated Canine Data Commons (ICDC) provides multiple avenues for users to access and use data. In addtion to the [ICDC Website](https://https://caninecommons.cancer.gov/#/), there are REST and GraphQL APIs.  In particular, the GraphQL API allows users to understand what is in the ICDC database and create custom queries that return the exact data that the researcher is intrested in.\n",
    "\n",
    "In this notebook we go through some simple examples that demonstrate how to access data through the GraphQL API, including data that are not availble in the web interface."
   ]
  },
  {
   "cell_type": "code",
   "execution_count": 14,
   "metadata": {},
   "outputs": [
    {
     "name": "stdout",
     "output_type": "stream",
     "text": [
      "Requirement already satisfied: requests in /home/pihl/jupyter/jupyterenv/lib/python3.7/site-packages (2.22.0)\n",
      "Requirement already satisfied: certifi>=2017.4.17 in /home/pihl/jupyter/jupyterenv/lib/python3.7/site-packages (from requests) (2019.11.28)\n",
      "Requirement already satisfied: idna<2.9,>=2.5 in /home/pihl/jupyter/jupyterenv/lib/python3.7/site-packages (from requests) (2.8)\n",
      "Requirement already satisfied: chardet<3.1.0,>=3.0.2 in /home/pihl/jupyter/jupyterenv/lib/python3.7/site-packages (from requests) (3.0.4)\n",
      "Requirement already satisfied: urllib3!=1.25.0,!=1.25.1,<1.26,>=1.21.1 in /home/pihl/jupyter/jupyterenv/lib/python3.7/site-packages (from requests) (1.25.7)\n",
      "Requirement already satisfied: pprint in /home/pihl/jupyter/jupyterenv/lib/python3.7/site-packages (0.1)\n",
      "Requirement already satisfied: pandas in /home/pihl/jupyter/jupyterenv/lib/python3.7/site-packages (0.25.3)\n",
      "Requirement already satisfied: numpy>=1.13.3 in /home/pihl/jupyter/jupyterenv/lib/python3.7/site-packages (from pandas) (1.17.4)\n",
      "Requirement already satisfied: pytz>=2017.2 in /home/pihl/jupyter/jupyterenv/lib/python3.7/site-packages (from pandas) (2019.3)\n",
      "Requirement already satisfied: python-dateutil>=2.6.1 in /home/pihl/jupyter/jupyterenv/lib/python3.7/site-packages (from pandas) (2.8.0)\n",
      "Requirement already satisfied: six>=1.5 in /home/pihl/jupyter/jupyterenv/lib/python3.7/site-packages (from python-dateutil>=2.6.1->pandas) (1.12.0)\n",
      "Requirement already satisfied: plotly in /home/pihl/jupyter/jupyterenv/lib/python3.7/site-packages (4.4.1)\n",
      "Requirement already satisfied: retrying>=1.3.3 in /home/pihl/jupyter/jupyterenv/lib/python3.7/site-packages (from plotly) (1.3.3)\n",
      "Requirement already satisfied: six in /home/pihl/jupyter/jupyterenv/lib/python3.7/site-packages (from plotly) (1.12.0)\n"
     ]
    }
   ],
   "source": [
    "! pip install requests\n",
    "! pip install pprint\n",
    "! pip install pandas\n",
    "! pip install plotly"
   ]
  },
  {
   "cell_type": "code",
   "execution_count": 15,
   "metadata": {},
   "outputs": [],
   "source": [
    "import requests\n",
    "import icdcQueries as icdc #This file contains the GraphQL queries used in this demonstration.\n",
    "import pprint\n",
    "import pandas as pd\n",
    "import plotly\n",
    "import plotly.express as px\n",
    "import plotly.graph_objects as go\n",
    "\n",
    "icdc.init()"
   ]
  },
  {
   "cell_type": "code",
   "execution_count": 16,
   "metadata": {},
   "outputs": [],
   "source": [
    "#General query interface\n",
    "def runQuery(query):\n",
    "    \n",
    "    endpoint = \"https://caninecommons.cancer.gov/v1/graphql/\"\n",
    "    \n",
    "    request = requests.post(endpoint, json={'query': query})\n",
    "    \n",
    "    if request.status_code == 200:\n",
    "        return request.json()\n",
    "    else:\n",
    "        raise Exception(\"Query failed code {}. {}\".format(request.status_code,query))"
   ]
  },
  {
   "cell_type": "code",
   "execution_count": 17,
   "metadata": {},
   "outputs": [],
   "source": [
    "#Flatten a JSON object into a table\n",
    "def flattenJSON(jsondata):\n",
    "    flatdata = {}\n",
    "\n",
    "    def flatten(x, name=''):\n",
    "        if type(x) is dict:\n",
    "            for a in x:\n",
    "                flatten(x[a], name + a + '_')\n",
    "        elif type(x) is list:\n",
    "            i = 0\n",
    "            for a in x:\n",
    "                flatten(a, name + str(i) + '_')\n",
    "                i +=1\n",
    "        else:\n",
    "            flatdata[name] = x\n",
    "\n",
    "    flatten(jsondata)\n",
    "    return flatdata"
   ]
  },
  {
   "cell_type": "code",
   "execution_count": 18,
   "metadata": {},
   "outputs": [],
   "source": [
    "def getDataframe(query):\n",
    "    #Provide a GraphQL query and get a pandas dataframe back.  Assumes a query based on case\n",
    "    \n",
    "    #Run the GraphQL query\n",
    "    jsondata = runQuery(query)\n",
    "    \n",
    "    #Flatten the JSON and push it into a dataframe\n",
    "    finaldata = pd.DataFrame(flattenJSON(case) for case in jsondata['data']['case'])\n",
    "    \n",
    "    return finaldata"
   ]
  },
  {
   "cell_type": "code",
   "execution_count": 29,
   "metadata": {},
   "outputs": [],
   "source": [
    "def scatterPlot(xaxis, yaxis):\n",
    "    #Use Plotly to create a basic scatter plot\n",
    "    \n",
    "    dataframe = getDataframe(icdc.demo_query)\n",
    "    \n",
    "    figure = px.scatter(dataframe, x=xaxis, y=yaxis)\n",
    "    figure.show()"
   ]
  },
  {
   "cell_type": "code",
   "execution_count": 32,
   "metadata": {},
   "outputs": [],
   "source": [
    "def niceTable():\n",
    "    #Use Plotly to create a presentation quality table\n",
    "    \n",
    "    icdc.init()\n",
    "    variables = None\n",
    "    \n",
    "    df = getDataframe(icdc.table_demo)\n",
    "    \n",
    "    figure = go.Figure(data=[go.Table(header=dict(values=list(df.columns)), \n",
    "                                      cells=dict(values=[df[k].tolist() for k in df.columns]))])\n",
    "    \n",
    "    figure.show()"
   ]
  },
  {
   "cell_type": "code",
   "execution_count": 21,
   "metadata": {},
   "outputs": [],
   "source": [
    "def queryList():\n",
    "    # Demonstate how to query for all fields in ICDC\n",
    "    \n",
    "    data = runQuery(icdc.all_queries)\n",
    "    pprint.pprint(data)"
   ]
  },
  {
   "cell_type": "code",
   "execution_count": 25,
   "metadata": {},
   "outputs": [],
   "source": [
    "def dataframePrint():\n",
    "    \n",
    "    dataframe = getDataframe(icdc.demo_query)\n",
    "    pprint.pprint(dataframe)"
   ]
  },
  {
   "cell_type": "markdown",
   "metadata": {},
   "source": [
    "# GraphQL Introspection\n",
    "GraphQL provides a service calls **introspection** that allows users to ask the system what fields are available to query.  This service allows users to browse the database schema and construct the queries to return the information they're interested in.\n",
    "\n",
    "The result below shows all of the fields in ICDC that users can access"
   ]
  },
  {
   "cell_type": "code",
   "execution_count": 26,
   "metadata": {
    "scrolled": true
   },
   "outputs": [
    {
     "name": "stdout",
     "output_type": "stream",
     "text": [
      "{'data': {'__schema': {'queryType': {'fields': [{'description': None,\n",
      "                                                 'name': 'AgeCaseCount'},\n",
      "                                                {'description': None,\n",
      "                                                 'name': 'BreedCaseCount'},\n",
      "                                                {'description': None,\n",
      "                                                 'name': 'CaseDetail'},\n",
      "                                                {'description': None,\n",
      "                                                 'name': 'CaseOverview'},\n",
      "                                                {'description': None,\n",
      "                                                 'name': 'DiagnosisCaseCount'},\n",
      "                                                {'description': None,\n",
      "                                                 'name': 'DiseaseSiteCaseCount'},\n",
      "                                                {'description': None,\n",
      "                                                 'name': 'FileFormatCaseCount'},\n",
      "                                                {'description': None,\n",
      "                                                 'name': 'FileTypeCaseCount'},\n",
      "                                                {'description': None,\n",
      "                                                 'name': 'FilesOfCase'},\n",
      "                                                {'description': None,\n",
      "                                                 'name': 'GenderCaseCount'},\n",
      "                                                {'description': None,\n",
      "                                                 'name': 'NeuteredStatusCaseCount'},\n",
      "                                                {'description': None,\n",
      "                                                 'name': 'ProgramCaseCount'},\n",
      "                                                {'description': None,\n",
      "                                                 'name': 'StageOfDiseaseCaseCount'},\n",
      "                                                {'description': None,\n",
      "                                                 'name': 'StudyCodeCaseCount'},\n",
      "                                                {'description': None,\n",
      "                                                 'name': 'StudyOfProgram'},\n",
      "                                                {'description': None,\n",
      "                                                 'name': 'StudyTypeCaseCount'},\n",
      "                                                {'description': None,\n",
      "                                                 'name': 'adverse_event'},\n",
      "                                                {'description': None,\n",
      "                                                 'name': 'agent'},\n",
      "                                                {'description': None,\n",
      "                                                 'name': 'agent_administration'},\n",
      "                                                {'description': None,\n",
      "                                                 'name': 'aliguotCountOfProgram'},\n",
      "                                                {'description': None,\n",
      "                                                 'name': 'aliguotCountOfStudy'},\n",
      "                                                {'description': None,\n",
      "                                                 'name': 'aliquotCountOfCase'},\n",
      "                                                {'description': None,\n",
      "                                                 'name': 'assay'},\n",
      "                                                {'description': None,\n",
      "                                                 'name': 'case'},\n",
      "                                                {'description': None,\n",
      "                                                 'name': 'caseCountByAge'},\n",
      "                                                {'description': None,\n",
      "                                                 'name': 'caseCountByBreed'},\n",
      "                                                {'description': None,\n",
      "                                                 'name': 'caseCountByDataType'},\n",
      "                                                {'description': None,\n",
      "                                                 'name': 'caseCountByDiagnosis'},\n",
      "                                                {'description': None,\n",
      "                                                 'name': 'caseCountByDiseaseSite'},\n",
      "                                                {'description': None,\n",
      "                                                 'name': 'caseCountByFileFormat'},\n",
      "                                                {'description': None,\n",
      "                                                 'name': 'caseCountByGender'},\n",
      "                                                {'description': None,\n",
      "                                                 'name': 'caseCountByNeuteredStatus'},\n",
      "                                                {'description': None,\n",
      "                                                 'name': 'caseCountByProgram'},\n",
      "                                                {'description': None,\n",
      "                                                 'name': 'caseCountByStageOfDisease'},\n",
      "                                                {'description': None,\n",
      "                                                 'name': 'caseCountByStudyCode'},\n",
      "                                                {'description': None,\n",
      "                                                 'name': 'caseCountByStudyType'},\n",
      "                                                {'description': None,\n",
      "                                                 'name': 'caseCountOfProgram'},\n",
      "                                                {'description': None,\n",
      "                                                 'name': 'caseCountOfStudy'},\n",
      "                                                {'description': None,\n",
      "                                                 'name': 'caseOverview'},\n",
      "                                                {'description': None,\n",
      "                                                 'name': 'casesByStudyId'},\n",
      "                                                {'description': None,\n",
      "                                                 'name': 'casesInList'},\n",
      "                                                {'description': None,\n",
      "                                                 'name': 'cohort'},\n",
      "                                                {'description': None,\n",
      "                                                 'name': 'cycle'},\n",
      "                                                {'description': None,\n",
      "                                                 'name': 'demographic'},\n",
      "                                                {'description': None,\n",
      "                                                 'name': 'diagnosis'},\n",
      "                                                {'description': None,\n",
      "                                                 'name': 'disease_extent'},\n",
      "                                                {'description': None,\n",
      "                                                 'name': 'enrollment'},\n",
      "                                                {'description': None,\n",
      "                                                 'name': 'file'},\n",
      "                                                {'description': None,\n",
      "                                                 'name': 'fileCountOfCase'},\n",
      "                                                {'description': None,\n",
      "                                                 'name': 'fileCountOfProgram'},\n",
      "                                                {'description': None,\n",
      "                                                 'name': 'fileCountOfStudy'},\n",
      "                                                {'description': None,\n",
      "                                                 'name': 'filesBySampleId'},\n",
      "                                                {'description': None,\n",
      "                                                 'name': 'filesOfCase'},\n",
      "                                                {'description': None,\n",
      "                                                 'name': 'filesOfCases'},\n",
      "                                                {'description': None,\n",
      "                                                 'name': 'filesOfStudy'},\n",
      "                                                {'description': None,\n",
      "                                                 'name': 'follow_up'},\n",
      "                                                {'description': None,\n",
      "                                                 'name': 'image'},\n",
      "                                                {'description': None,\n",
      "                                                 'name': 'lab_exam'},\n",
      "                                                {'description': None,\n",
      "                                                 'name': 'numberOfAliquots'},\n",
      "                                                {'description': None,\n",
      "                                                 'name': 'numberOfCases'},\n",
      "                                                {'description': None,\n",
      "                                                 'name': 'numberOfFiles'},\n",
      "                                                {'description': None,\n",
      "                                                 'name': 'numberOfSamples'},\n",
      "                                                {'description': None,\n",
      "                                                 'name': 'numberOfStudies'},\n",
      "                                                {'description': None,\n",
      "                                                 'name': 'off_study'},\n",
      "                                                {'description': None,\n",
      "                                                 'name': 'off_treatment'},\n",
      "                                                {'description': None,\n",
      "                                                 'name': 'physical_exam'},\n",
      "                                                {'description': None,\n",
      "                                                 'name': 'principal_investigator'},\n",
      "                                                {'description': None,\n",
      "                                                 'name': 'prior_surgery'},\n",
      "                                                {'description': None,\n",
      "                                                 'name': 'prior_therapy'},\n",
      "                                                {'description': None,\n",
      "                                                 'name': 'program'},\n",
      "                                                {'description': None,\n",
      "                                                 'name': 'sample'},\n",
      "                                                {'description': None,\n",
      "                                                 'name': 'sampleCountOfCase'},\n",
      "                                                {'description': None,\n",
      "                                                 'name': 'sampleCountOfProgram'},\n",
      "                                                {'description': None,\n",
      "                                                 'name': 'sampleCountOfStudy'},\n",
      "                                                {'description': None,\n",
      "                                                 'name': 'samplesByCaseId'},\n",
      "                                                {'description': None,\n",
      "                                                 'name': 'schemaVersion'},\n",
      "                                                {'description': None,\n",
      "                                                 'name': 'studiesByProgram'},\n",
      "                                                {'description': None,\n",
      "                                                 'name': 'studiesByProgramId'},\n",
      "                                                {'description': None,\n",
      "                                                 'name': 'study'},\n",
      "                                                {'description': None,\n",
      "                                                 'name': 'studyCountOfProgram'},\n",
      "                                                {'description': None,\n",
      "                                                 'name': 'study_arm'},\n",
      "                                                {'description': None,\n",
      "                                                 'name': 'study_site'},\n",
      "                                                {'description': None,\n",
      "                                                 'name': 'visit'},\n",
      "                                                {'description': None,\n",
      "                                                 'name': 'vital_signs'}]}}}}\n"
     ]
    }
   ],
   "source": [
    "queryList()"
   ]
  },
  {
   "cell_type": "markdown",
   "metadata": {},
   "source": [
    "# Getting data from the API\n",
    "\n",
    "Even if  data aren't presented in the ICDC graphical interface, they are avaialble via the API for users to access and analyze.  In the example below, the ICDC API was queried to provide a variety of information about each case in ICDC such as the cohort they were assigned to, the diagnosis, and any associated files. \n",
    "\n",
    "Since the ICDC API returns data in JSON format, it is easy to transform the data into commonly used anayltical tools.  In the example below, data about each case was retrieved from ICDC and put into a Pandas dataframe, a commonly used Python data management tool."
   ]
  },
  {
   "cell_type": "code",
   "execution_count": 27,
   "metadata": {
    "scrolled": true
   },
   "outputs": [
    {
     "name": "stdout",
     "output_type": "stream",
     "text": [
      "                 case_id_ cohort_cohort_description_ cohort_cohort_dose_  \\\n",
      "0            COTC007B0201     NSC 725776; 3mg/m2/day          3mg/m2/day   \n",
      "1            COTC007B0501     NSC 725776; 3mg/m2/day          3mg/m2/day   \n",
      "2            COTC007B0901     NSC 743400; 8mg/m2/day          8mg/m2/day   \n",
      "3            COTC007B0502     NSC 725776; 3mg/m2/day          3mg/m2/day   \n",
      "4            COTC007B0503     NSC 725776; 3mg/m2/day          3mg/m2/day   \n",
      "..                    ...                        ...                 ...   \n",
      "139  NCATS-COP01CCB070020        Pulmonary Neoplasms                       \n",
      "140  NCATS-COP01CCB070034        Pulmonary Neoplasms                       \n",
      "141  NCATS-COP01CCB070102                   Melanoma                       \n",
      "142  NCATS-COP01CCB080012                   Melanoma                       \n",
      "143  NCATS-COP01CCB080018                   Melanoma                       \n",
      "\n",
      "    diagnoses_0_stage_of_disease_ diagnoses_0_concurrent_disease_  \\\n",
      "0                             III                            None   \n",
      "1                            IIIA                            None   \n",
      "2                            IIIA                            None   \n",
      "3                            IIIA                            None   \n",
      "4                            IIIA                            None   \n",
      "..                            ...                             ...   \n",
      "139                          None                           False   \n",
      "140                          None                           False   \n",
      "141                          None                           False   \n",
      "142                          None                            True   \n",
      "143                          None                            True   \n",
      "\n",
      "                             diagnoses_0_disease_term_  \\\n",
      "0                                             Lymphoma   \n",
      "1                                              Stage 3   \n",
      "2                                             Lymphoma   \n",
      "3                                              Stage 3   \n",
      "4                                              Stage 3   \n",
      "..                                                 ...   \n",
      "139  Malignant neoplasm of the respiratory tract ce...   \n",
      "140  Malignant neoplasm of the respiratory tract ce...   \n",
      "141  Lip and oropharyngeal neoplasms malignant :: M...   \n",
      "142  Lip and oropharyngeal neoplasms malignant :: M...   \n",
      "143  Lip and oropharyngeal neoplasms malignant :: M...   \n",
      "\n",
      "                  diagnoses_0_concurrent_disease_type_  \\\n",
      "0                                                 None   \n",
      "1                                                 None   \n",
      "2                                                 None   \n",
      "3                                                 None   \n",
      "4                                                 None   \n",
      "..                                                 ...   \n",
      "139                                                      \n",
      "140                                                      \n",
      "141                                                      \n",
      "142                                osteoarthritis, hip   \n",
      "143  lick granuloma that is chronic on right hind l...   \n",
      "\n",
      "           diagnoses_0_primary_disease_site_ demographic_neutered_indicator_  \\\n",
      "0                                 LYMPH NODE                            None   \n",
      "1                                 LYMPH NODE                            None   \n",
      "2                                 LYMPH NODE                            None   \n",
      "3                                 LYMPH NODE                            None   \n",
      "4                                 LYMPH NODE                            None   \n",
      "..                                       ...                             ...   \n",
      "139                  Lung, Caudal Right Lobe                             Yes   \n",
      "140  Lung, Caudal Aspect Of Left Caudal Lobe                             Yes   \n",
      "141                                 Mandible                             Yes   \n",
      "142                                 Mandible                             Yes   \n",
      "143                                    Mouth                             Yes   \n",
      "\n",
      "     demographic_patient_age_at_enrollment_  ... samples_1_percentage_tumor_  \\\n",
      "0                                       8.0  ...                         NaN   \n",
      "1                                       4.2  ...                         NaN   \n",
      "2                                       NaN  ...                         NaN   \n",
      "3                                       8.0  ...                         NaN   \n",
      "4                                      11.5  ...                         NaN   \n",
      "..                                      ...  ...                         ...   \n",
      "139                                    13.0  ...                         NaN   \n",
      "140                                     9.0  ...                        48.2   \n",
      "141                                    12.0  ...                         NaN   \n",
      "142                                     9.0  ...                         NaN   \n",
      "143                                     9.0  ...                         NaN   \n",
      "\n",
      "    samples_1_percentage_stroma_ samples_2_necropsy_sample_  \\\n",
      "0                            NaN                        NaN   \n",
      "1                            NaN                        NaN   \n",
      "2                            NaN                        NaN   \n",
      "3                            NaN                        NaN   \n",
      "4                            NaN                        NaN   \n",
      "..                           ...                        ...   \n",
      "139                          NaN                        NaN   \n",
      "140                         51.8                        NaN   \n",
      "141                          NaN                        NaN   \n",
      "142                          NaN                      False   \n",
      "143                          NaN                        NaN   \n",
      "\n",
      "     samples_2_date_of_sample_collection_ samples_2_sample_id_  \\\n",
      "0                                     NaN                  NaN   \n",
      "1                                     NaN                  NaN   \n",
      "2                                     NaN                  NaN   \n",
      "3                                     NaN                  NaN   \n",
      "4                                     NaN                  NaN   \n",
      "..                                    ...                  ...   \n",
      "139                                   NaN                  NaN   \n",
      "140                                   NaN                  NaN   \n",
      "141                                   NaN                  NaN   \n",
      "142                            2009-03-06       CCB080012 0312   \n",
      "143                                   NaN                  NaN   \n",
      "\n",
      "     samples_2_general_sample_pathology_ samples_2_comment_  \\\n",
      "0                                    NaN                NaN   \n",
      "1                                    NaN                NaN   \n",
      "2                                    NaN                NaN   \n",
      "3                                    NaN                NaN   \n",
      "4                                    NaN                NaN   \n",
      "..                                   ...                ...   \n",
      "139                                  NaN                NaN   \n",
      "140                                  NaN                NaN   \n",
      "141                                  NaN                NaN   \n",
      "142                       not applicable                      \n",
      "143                                  NaN                NaN   \n",
      "\n",
      "     samples_2_sample_type_ samples_2_percentage_tumor_  \\\n",
      "0                       NaN                         NaN   \n",
      "1                       NaN                         NaN   \n",
      "2                       NaN                         NaN   \n",
      "3                       NaN                         NaN   \n",
      "4                       NaN                         NaN   \n",
      "..                      ...                         ...   \n",
      "139                     NaN                         NaN   \n",
      "140                     NaN                         NaN   \n",
      "141                     NaN                         NaN   \n",
      "142                   blood                         NaN   \n",
      "143                     NaN                         NaN   \n",
      "\n",
      "    samples_2_percentage_stroma_  \n",
      "0                            NaN  \n",
      "1                            NaN  \n",
      "2                            NaN  \n",
      "3                            NaN  \n",
      "4                            NaN  \n",
      "..                           ...  \n",
      "139                          NaN  \n",
      "140                          NaN  \n",
      "141                          NaN  \n",
      "142                          NaN  \n",
      "143                          NaN  \n",
      "\n",
      "[144 rows x 42 columns]\n"
     ]
    }
   ],
   "source": [
    "dataframePrint()"
   ]
  },
  {
   "cell_type": "markdown",
   "metadata": {},
   "source": [
    "# Analyzing data\n",
    "\n",
    "Users can combine common tools such as Pandas and Plotly to graph data retrived from the ICDC API.  While this example uses Python, GraphQL is language agnostsic and users can access the IDCD API using the language of their choice."
   ]
  },
  {
   "cell_type": "code",
   "execution_count": 30,
   "metadata": {
    "scrolled": true
   },
   "outputs": [
    {
     "data": {
      "application/vnd.plotly.v1+json": {
       "config": {
        "plotlyServerURL": "https://plot.ly"
       },
       "data": [
        {
         "hoverlabel": {
          "namelength": 0
         },
         "hovertemplate": "demographic_breed_=%{x}<br>diagnoses_0_primary_disease_site_=%{y}",
         "legendgroup": "",
         "marker": {
          "color": "#636efa",
          "symbol": "circle"
         },
         "mode": "markers",
         "name": "",
         "showlegend": false,
         "type": "scatter",
         "x": [
          "Samoyed",
          "Golden Retriever",
          "Gordon Setter",
          "Other",
          "Beagle",
          "Golden Retriever",
          "English Setter",
          "Black and Tan Coonhound",
          "Australian Shepherd",
          "Mixed Breed",
          "Bullmastiff",
          "Mixed Breed",
          "Mixed Breed",
          "Golden Retriever",
          "Boxer",
          "German Shepherd Dog",
          "Basset Hound",
          "Mixed Breed",
          "Labrador Retriever",
          "Doberman Pinscher",
          "Bullmastiff",
          "Boxer",
          "Beagle",
          "Boxer",
          "Bernese Mountain Dog",
          "Rottweiler",
          "Mixed Breed",
          "Golden Retriever",
          "Mixed Breed",
          "Mixed Breed",
          "Boxer",
          "Mixed Breed",
          "Belgian Malinois",
          "Bernese Mountain Dog",
          "Doberman Pinscher",
          "Chesapeake Bay Retriever",
          "Rottweiler",
          "Mixed Breed",
          "Border Collie",
          "Mixed Breed",
          "Beagle",
          "Golden Retriever",
          "Golden Retriever",
          "Bullmastiff",
          "Bernese Mountain Dog",
          "Cavalier King Charles Spaniel",
          "Rottweiler",
          "Flat-Coated Retriever",
          "Golden Retriever",
          "American Staffordshire Terrier",
          "Mixed Breed",
          "Bernese Mountain Dog",
          "Mixed Breed",
          "Mixed Breed",
          "Mixed Breed",
          "Golden Retriever",
          "Irish Setter",
          "Boxer",
          "Mixed Breed",
          "Beagle",
          "American Staffordshire Terrier",
          "Labrador Retriever",
          "Boxer",
          "Vizsla",
          "American Staffordshire Terrier",
          "Mixed Breed",
          "Irish Wolfhound",
          "Border Collie",
          "Golden Retriever",
          "Mastiff",
          "Rottweiler",
          "German Shepherd Dog",
          "Golden Retriever",
          "Golden Retriever",
          "Boxer",
          "Golden Retriever",
          "Basset Hound",
          "Mixed Breed",
          "Mixed Breed",
          "Golden Retriever",
          "",
          "Saint Bernard",
          "Bernese Mountain Dog",
          "Labrador Retriever",
          "Other",
          "Other",
          "Beagle",
          "Akita",
          "Labrador Retriever",
          "Mixed Breed",
          "Staffordshire Bull Terrier",
          "Vizsla",
          "Golden Retriever",
          "Mixed Breed",
          "Mixed Breed",
          "Golden Retriever",
          "Doberman Pinscher",
          "Mixed Breed",
          "Mixed Breed",
          "Mixed Breed",
          "Greyhound",
          "German Shepherd Dog",
          "Bernese Mountain Dog",
          "Labrador Retriever",
          "Black and Tan Coonhound",
          "Labrador Retriever",
          "Miniature Schnauzer",
          "Labrador Retriever",
          "Golden Retriever",
          "Golden Retriever",
          "Saint Bernard",
          "Labrador Retriever",
          "Golden Retriever",
          "Golden Retriever",
          "Golden Retriever",
          "Mixed Breed",
          "Golden Retriever",
          "Mixed Breed",
          "Golden Retriever",
          "Golden Retriever",
          "Boxer",
          "American Staffordshire Terrier",
          "Gordon Setter",
          "Bouvier des Flandres",
          "Greyhound",
          "Labrador Retriever",
          "German Shepherd Dog",
          "Rottweiler",
          "Mixed Breed",
          "Labrador Retriever",
          "Australian Shepherd",
          "Doberman Pinscher",
          "Giant Schnauzer",
          "Boxer",
          "Cocker Spaniel",
          "Weimaraner",
          "German Shorthaired Pointer",
          "West Highland White Terrier",
          "Rottweiler",
          "Golden Retriever",
          "Saint Bernard",
          "Mixed Breed",
          "Chinese Shar-Pei",
          "Doberman Pinscher"
         ],
         "xaxis": "x",
         "y": [
          "LYMPH NODE",
          "LYMPH NODE",
          "LYMPH NODE",
          "LYMPH NODE",
          "LYMPH NODE",
          "LYMPH NODE",
          "LYMPH NODE",
          "LYMPH NODE",
          "LYMPH NODE",
          "LYMPH NODE",
          "LYMPH NODE",
          "LYMPH NODE",
          "LYMPH NODE",
          "LYMPH NODE",
          "LYMPH NODE",
          "LYMPH NODE",
          "LYMPH NODE",
          "LYMPH NODE",
          "LYMPH NODE",
          "LYMPH NODE",
          "LYMPH NODE",
          "LYMPH NODE",
          "LYMPH NODE",
          "LYMPH NODE",
          "LYMPH NODE",
          "LYMPH NODE",
          "LYMPH NODE",
          "LYMPH NODE",
          "LYMPH NODE",
          "LYMPH NODE",
          "LYMPH NODE",
          "LYMPH NODE",
          "LYMPH NODE",
          "LYMPH NODE",
          "LYMPH NODE",
          "LYMPH NODE",
          "LYMPH NODE",
          "LYMPH NODE",
          "LYMPH NODE",
          "LYMPH NODE",
          "LYMPH NODE",
          "LYMPH NODE",
          "LYMPH NODE",
          "LYMPH NODE",
          "LYMPH NODE",
          "LYMPH NODE",
          "LYMPH NODE",
          "LYMPH NODE",
          "LYMPH NODE",
          "LYMPH NODE",
          "LYMPH NODE",
          "LYMPH NODE",
          "LYMPH NODE",
          "LYMPH NODE",
          "LYMPH NODE",
          "LYMPH NODE",
          "LYMPH NODE",
          "LYMPH NODE",
          "LYMPH NODE",
          "LYMPH NODE",
          "LYMPH NODE",
          "LYMPH NODE",
          "LYMPH NODE",
          "LYMPH NODE",
          "LYMPH NODE",
          "LYMPH NODE",
          "LYMPH NODE",
          "LYMPH NODE",
          "LYMPH NODE",
          "LYMPH NODE",
          "LYMPH NODE",
          "LYMPH NODE",
          "LYMPH NODE",
          "LYMPH NODE",
          "LYMPH NODE",
          "LYMPH NODE",
          "LYMPH NODE",
          "LYMPH NODE",
          "LYMPH NODE",
          "LYMPH NODE",
          "LYMPH NODE",
          "LYMPH NODE",
          "LYMPH NODE",
          "LYMPH NODE",
          "Lymph Node, Popliteal",
          "Lymph Node, Popliteal",
          "Lymph Node, Popliteal",
          "Humerus",
          "Femur",
          "Lymph Node, Popliteal",
          "Lymph Node, Popliteal",
          "Lymph Node, Popliteal",
          "Lymph Node, Popliteal",
          "Lymph Node, Popliteal",
          "Lymph Node, Popliteal",
          "Lymph Node, Popliteal",
          "Lung Multiple Sites",
          "Lymph Node, Popliteal",
          "Mandible",
          "Tibia",
          "Femur",
          "Tibia",
          "Lymph Node",
          "Lymph Node, Popliteal",
          "Lymph Node",
          "Lymph Node",
          "Mandible",
          "Lymph Node, Popliteal",
          "Lymph Node, Popliteal",
          "Lymph Node, Popliteal",
          "Humerus",
          "Radius",
          "Humerus",
          "Humerus",
          "Lymph Node",
          "Mouth",
          "Mouth",
          "Lung, Caudal Right Lobe",
          "Lymph Node",
          "Lymph Node, Popliteal",
          "Lymph Node",
          "Lung, Cranial Left Lobe",
          "Lung, Caudal Aspect Of Left Caudal Lobe",
          "Lymph Node, Popliteal",
          "Humerus",
          "Mouth",
          "Mouth",
          "Mouth",
          "Lung, Caudal Aspect Of Left Caudal Lobe",
          "Lung, Caudal Aspect Of Left Caudal Lobe",
          "Lung, Cranial Left Lobe",
          "Lung, Caudal Right Lobe",
          "Mouth",
          "Lymph Node",
          "Mouth",
          "Lung, Cranial Left Lobe",
          "Humerus",
          "Lung, Cranial Left Lobe",
          "Radius",
          "Lung, Caudal Right Lobe",
          "Lung, Caudal Aspect Of Left Caudal Lobe",
          "Mandible",
          "Mandible",
          "Mouth"
         ],
         "yaxis": "y"
        }
       ],
       "layout": {
        "legend": {
         "tracegroupgap": 0
        },
        "margin": {
         "t": 60
        },
        "template": {
         "data": {
          "bar": [
           {
            "error_x": {
             "color": "#2a3f5f"
            },
            "error_y": {
             "color": "#2a3f5f"
            },
            "marker": {
             "line": {
              "color": "#E5ECF6",
              "width": 0.5
             }
            },
            "type": "bar"
           }
          ],
          "barpolar": [
           {
            "marker": {
             "line": {
              "color": "#E5ECF6",
              "width": 0.5
             }
            },
            "type": "barpolar"
           }
          ],
          "carpet": [
           {
            "aaxis": {
             "endlinecolor": "#2a3f5f",
             "gridcolor": "white",
             "linecolor": "white",
             "minorgridcolor": "white",
             "startlinecolor": "#2a3f5f"
            },
            "baxis": {
             "endlinecolor": "#2a3f5f",
             "gridcolor": "white",
             "linecolor": "white",
             "minorgridcolor": "white",
             "startlinecolor": "#2a3f5f"
            },
            "type": "carpet"
           }
          ],
          "choropleth": [
           {
            "colorbar": {
             "outlinewidth": 0,
             "ticks": ""
            },
            "type": "choropleth"
           }
          ],
          "contour": [
           {
            "colorbar": {
             "outlinewidth": 0,
             "ticks": ""
            },
            "colorscale": [
             [
              0,
              "#0d0887"
             ],
             [
              0.1111111111111111,
              "#46039f"
             ],
             [
              0.2222222222222222,
              "#7201a8"
             ],
             [
              0.3333333333333333,
              "#9c179e"
             ],
             [
              0.4444444444444444,
              "#bd3786"
             ],
             [
              0.5555555555555556,
              "#d8576b"
             ],
             [
              0.6666666666666666,
              "#ed7953"
             ],
             [
              0.7777777777777778,
              "#fb9f3a"
             ],
             [
              0.8888888888888888,
              "#fdca26"
             ],
             [
              1,
              "#f0f921"
             ]
            ],
            "type": "contour"
           }
          ],
          "contourcarpet": [
           {
            "colorbar": {
             "outlinewidth": 0,
             "ticks": ""
            },
            "type": "contourcarpet"
           }
          ],
          "heatmap": [
           {
            "colorbar": {
             "outlinewidth": 0,
             "ticks": ""
            },
            "colorscale": [
             [
              0,
              "#0d0887"
             ],
             [
              0.1111111111111111,
              "#46039f"
             ],
             [
              0.2222222222222222,
              "#7201a8"
             ],
             [
              0.3333333333333333,
              "#9c179e"
             ],
             [
              0.4444444444444444,
              "#bd3786"
             ],
             [
              0.5555555555555556,
              "#d8576b"
             ],
             [
              0.6666666666666666,
              "#ed7953"
             ],
             [
              0.7777777777777778,
              "#fb9f3a"
             ],
             [
              0.8888888888888888,
              "#fdca26"
             ],
             [
              1,
              "#f0f921"
             ]
            ],
            "type": "heatmap"
           }
          ],
          "heatmapgl": [
           {
            "colorbar": {
             "outlinewidth": 0,
             "ticks": ""
            },
            "colorscale": [
             [
              0,
              "#0d0887"
             ],
             [
              0.1111111111111111,
              "#46039f"
             ],
             [
              0.2222222222222222,
              "#7201a8"
             ],
             [
              0.3333333333333333,
              "#9c179e"
             ],
             [
              0.4444444444444444,
              "#bd3786"
             ],
             [
              0.5555555555555556,
              "#d8576b"
             ],
             [
              0.6666666666666666,
              "#ed7953"
             ],
             [
              0.7777777777777778,
              "#fb9f3a"
             ],
             [
              0.8888888888888888,
              "#fdca26"
             ],
             [
              1,
              "#f0f921"
             ]
            ],
            "type": "heatmapgl"
           }
          ],
          "histogram": [
           {
            "marker": {
             "colorbar": {
              "outlinewidth": 0,
              "ticks": ""
             }
            },
            "type": "histogram"
           }
          ],
          "histogram2d": [
           {
            "colorbar": {
             "outlinewidth": 0,
             "ticks": ""
            },
            "colorscale": [
             [
              0,
              "#0d0887"
             ],
             [
              0.1111111111111111,
              "#46039f"
             ],
             [
              0.2222222222222222,
              "#7201a8"
             ],
             [
              0.3333333333333333,
              "#9c179e"
             ],
             [
              0.4444444444444444,
              "#bd3786"
             ],
             [
              0.5555555555555556,
              "#d8576b"
             ],
             [
              0.6666666666666666,
              "#ed7953"
             ],
             [
              0.7777777777777778,
              "#fb9f3a"
             ],
             [
              0.8888888888888888,
              "#fdca26"
             ],
             [
              1,
              "#f0f921"
             ]
            ],
            "type": "histogram2d"
           }
          ],
          "histogram2dcontour": [
           {
            "colorbar": {
             "outlinewidth": 0,
             "ticks": ""
            },
            "colorscale": [
             [
              0,
              "#0d0887"
             ],
             [
              0.1111111111111111,
              "#46039f"
             ],
             [
              0.2222222222222222,
              "#7201a8"
             ],
             [
              0.3333333333333333,
              "#9c179e"
             ],
             [
              0.4444444444444444,
              "#bd3786"
             ],
             [
              0.5555555555555556,
              "#d8576b"
             ],
             [
              0.6666666666666666,
              "#ed7953"
             ],
             [
              0.7777777777777778,
              "#fb9f3a"
             ],
             [
              0.8888888888888888,
              "#fdca26"
             ],
             [
              1,
              "#f0f921"
             ]
            ],
            "type": "histogram2dcontour"
           }
          ],
          "mesh3d": [
           {
            "colorbar": {
             "outlinewidth": 0,
             "ticks": ""
            },
            "type": "mesh3d"
           }
          ],
          "parcoords": [
           {
            "line": {
             "colorbar": {
              "outlinewidth": 0,
              "ticks": ""
             }
            },
            "type": "parcoords"
           }
          ],
          "pie": [
           {
            "automargin": true,
            "type": "pie"
           }
          ],
          "scatter": [
           {
            "marker": {
             "colorbar": {
              "outlinewidth": 0,
              "ticks": ""
             }
            },
            "type": "scatter"
           }
          ],
          "scatter3d": [
           {
            "line": {
             "colorbar": {
              "outlinewidth": 0,
              "ticks": ""
             }
            },
            "marker": {
             "colorbar": {
              "outlinewidth": 0,
              "ticks": ""
             }
            },
            "type": "scatter3d"
           }
          ],
          "scattercarpet": [
           {
            "marker": {
             "colorbar": {
              "outlinewidth": 0,
              "ticks": ""
             }
            },
            "type": "scattercarpet"
           }
          ],
          "scattergeo": [
           {
            "marker": {
             "colorbar": {
              "outlinewidth": 0,
              "ticks": ""
             }
            },
            "type": "scattergeo"
           }
          ],
          "scattergl": [
           {
            "marker": {
             "colorbar": {
              "outlinewidth": 0,
              "ticks": ""
             }
            },
            "type": "scattergl"
           }
          ],
          "scattermapbox": [
           {
            "marker": {
             "colorbar": {
              "outlinewidth": 0,
              "ticks": ""
             }
            },
            "type": "scattermapbox"
           }
          ],
          "scatterpolar": [
           {
            "marker": {
             "colorbar": {
              "outlinewidth": 0,
              "ticks": ""
             }
            },
            "type": "scatterpolar"
           }
          ],
          "scatterpolargl": [
           {
            "marker": {
             "colorbar": {
              "outlinewidth": 0,
              "ticks": ""
             }
            },
            "type": "scatterpolargl"
           }
          ],
          "scatterternary": [
           {
            "marker": {
             "colorbar": {
              "outlinewidth": 0,
              "ticks": ""
             }
            },
            "type": "scatterternary"
           }
          ],
          "surface": [
           {
            "colorbar": {
             "outlinewidth": 0,
             "ticks": ""
            },
            "colorscale": [
             [
              0,
              "#0d0887"
             ],
             [
              0.1111111111111111,
              "#46039f"
             ],
             [
              0.2222222222222222,
              "#7201a8"
             ],
             [
              0.3333333333333333,
              "#9c179e"
             ],
             [
              0.4444444444444444,
              "#bd3786"
             ],
             [
              0.5555555555555556,
              "#d8576b"
             ],
             [
              0.6666666666666666,
              "#ed7953"
             ],
             [
              0.7777777777777778,
              "#fb9f3a"
             ],
             [
              0.8888888888888888,
              "#fdca26"
             ],
             [
              1,
              "#f0f921"
             ]
            ],
            "type": "surface"
           }
          ],
          "table": [
           {
            "cells": {
             "fill": {
              "color": "#EBF0F8"
             },
             "line": {
              "color": "white"
             }
            },
            "header": {
             "fill": {
              "color": "#C8D4E3"
             },
             "line": {
              "color": "white"
             }
            },
            "type": "table"
           }
          ]
         },
         "layout": {
          "annotationdefaults": {
           "arrowcolor": "#2a3f5f",
           "arrowhead": 0,
           "arrowwidth": 1
          },
          "coloraxis": {
           "colorbar": {
            "outlinewidth": 0,
            "ticks": ""
           }
          },
          "colorscale": {
           "diverging": [
            [
             0,
             "#8e0152"
            ],
            [
             0.1,
             "#c51b7d"
            ],
            [
             0.2,
             "#de77ae"
            ],
            [
             0.3,
             "#f1b6da"
            ],
            [
             0.4,
             "#fde0ef"
            ],
            [
             0.5,
             "#f7f7f7"
            ],
            [
             0.6,
             "#e6f5d0"
            ],
            [
             0.7,
             "#b8e186"
            ],
            [
             0.8,
             "#7fbc41"
            ],
            [
             0.9,
             "#4d9221"
            ],
            [
             1,
             "#276419"
            ]
           ],
           "sequential": [
            [
             0,
             "#0d0887"
            ],
            [
             0.1111111111111111,
             "#46039f"
            ],
            [
             0.2222222222222222,
             "#7201a8"
            ],
            [
             0.3333333333333333,
             "#9c179e"
            ],
            [
             0.4444444444444444,
             "#bd3786"
            ],
            [
             0.5555555555555556,
             "#d8576b"
            ],
            [
             0.6666666666666666,
             "#ed7953"
            ],
            [
             0.7777777777777778,
             "#fb9f3a"
            ],
            [
             0.8888888888888888,
             "#fdca26"
            ],
            [
             1,
             "#f0f921"
            ]
           ],
           "sequentialminus": [
            [
             0,
             "#0d0887"
            ],
            [
             0.1111111111111111,
             "#46039f"
            ],
            [
             0.2222222222222222,
             "#7201a8"
            ],
            [
             0.3333333333333333,
             "#9c179e"
            ],
            [
             0.4444444444444444,
             "#bd3786"
            ],
            [
             0.5555555555555556,
             "#d8576b"
            ],
            [
             0.6666666666666666,
             "#ed7953"
            ],
            [
             0.7777777777777778,
             "#fb9f3a"
            ],
            [
             0.8888888888888888,
             "#fdca26"
            ],
            [
             1,
             "#f0f921"
            ]
           ]
          },
          "colorway": [
           "#636efa",
           "#EF553B",
           "#00cc96",
           "#ab63fa",
           "#FFA15A",
           "#19d3f3",
           "#FF6692",
           "#B6E880",
           "#FF97FF",
           "#FECB52"
          ],
          "font": {
           "color": "#2a3f5f"
          },
          "geo": {
           "bgcolor": "white",
           "lakecolor": "white",
           "landcolor": "#E5ECF6",
           "showlakes": true,
           "showland": true,
           "subunitcolor": "white"
          },
          "hoverlabel": {
           "align": "left"
          },
          "hovermode": "closest",
          "mapbox": {
           "style": "light"
          },
          "paper_bgcolor": "white",
          "plot_bgcolor": "#E5ECF6",
          "polar": {
           "angularaxis": {
            "gridcolor": "white",
            "linecolor": "white",
            "ticks": ""
           },
           "bgcolor": "#E5ECF6",
           "radialaxis": {
            "gridcolor": "white",
            "linecolor": "white",
            "ticks": ""
           }
          },
          "scene": {
           "xaxis": {
            "backgroundcolor": "#E5ECF6",
            "gridcolor": "white",
            "gridwidth": 2,
            "linecolor": "white",
            "showbackground": true,
            "ticks": "",
            "zerolinecolor": "white"
           },
           "yaxis": {
            "backgroundcolor": "#E5ECF6",
            "gridcolor": "white",
            "gridwidth": 2,
            "linecolor": "white",
            "showbackground": true,
            "ticks": "",
            "zerolinecolor": "white"
           },
           "zaxis": {
            "backgroundcolor": "#E5ECF6",
            "gridcolor": "white",
            "gridwidth": 2,
            "linecolor": "white",
            "showbackground": true,
            "ticks": "",
            "zerolinecolor": "white"
           }
          },
          "shapedefaults": {
           "line": {
            "color": "#2a3f5f"
           }
          },
          "ternary": {
           "aaxis": {
            "gridcolor": "white",
            "linecolor": "white",
            "ticks": ""
           },
           "baxis": {
            "gridcolor": "white",
            "linecolor": "white",
            "ticks": ""
           },
           "bgcolor": "#E5ECF6",
           "caxis": {
            "gridcolor": "white",
            "linecolor": "white",
            "ticks": ""
           }
          },
          "title": {
           "x": 0.05
          },
          "xaxis": {
           "automargin": true,
           "gridcolor": "white",
           "linecolor": "white",
           "ticks": "",
           "title": {
            "standoff": 15
           },
           "zerolinecolor": "white",
           "zerolinewidth": 2
          },
          "yaxis": {
           "automargin": true,
           "gridcolor": "white",
           "linecolor": "white",
           "ticks": "",
           "title": {
            "standoff": 15
           },
           "zerolinecolor": "white",
           "zerolinewidth": 2
          }
         }
        },
        "xaxis": {
         "anchor": "y",
         "domain": [
          0,
          1
         ],
         "title": {
          "text": "demographic_breed_"
         }
        },
        "yaxis": {
         "anchor": "x",
         "domain": [
          0,
          1
         ],
         "title": {
          "text": "diagnoses_0_primary_disease_site_"
         }
        }
       }
      },
      "text/html": [
       "<div>\n",
       "        \n",
       "        \n",
       "            <div id=\"4d80d1d5-b055-4eba-bbe9-73c15c313dea\" class=\"plotly-graph-div\" style=\"height:525px; width:100%;\"></div>\n",
       "            <script type=\"text/javascript\">\n",
       "                require([\"plotly\"], function(Plotly) {\n",
       "                    window.PLOTLYENV=window.PLOTLYENV || {};\n",
       "                    \n",
       "                if (document.getElementById(\"4d80d1d5-b055-4eba-bbe9-73c15c313dea\")) {\n",
       "                    Plotly.newPlot(\n",
       "                        '4d80d1d5-b055-4eba-bbe9-73c15c313dea',\n",
       "                        [{\"hoverlabel\": {\"namelength\": 0}, \"hovertemplate\": \"demographic_breed_=%{x}<br>diagnoses_0_primary_disease_site_=%{y}\", \"legendgroup\": \"\", \"marker\": {\"color\": \"#636efa\", \"symbol\": \"circle\"}, \"mode\": \"markers\", \"name\": \"\", \"showlegend\": false, \"type\": \"scatter\", \"x\": [\"Samoyed\", \"Golden Retriever\", \"Gordon Setter\", \"Other\", \"Beagle\", \"Golden Retriever\", \"English Setter\", \"Black and Tan Coonhound\", \"Australian Shepherd\", \"Mixed Breed\", \"Bullmastiff\", \"Mixed Breed\", \"Mixed Breed\", \"Golden Retriever\", \"Boxer\", \"German Shepherd Dog\", \"Basset Hound\", \"Mixed Breed\", \"Labrador Retriever\", \"Doberman Pinscher\", \"Bullmastiff\", \"Boxer\", \"Beagle\", \"Boxer\", \"Bernese Mountain Dog\", \"Rottweiler\", \"Mixed Breed\", \"Golden Retriever\", \"Mixed Breed\", \"Mixed Breed\", \"Boxer\", \"Mixed Breed\", \"Belgian Malinois\", \"Bernese Mountain Dog\", \"Doberman Pinscher\", \"Chesapeake Bay Retriever\", \"Rottweiler\", \"Mixed Breed\", \"Border Collie\", \"Mixed Breed\", \"Beagle\", \"Golden Retriever\", \"Golden Retriever\", \"Bullmastiff\", \"Bernese Mountain Dog\", \"Cavalier King Charles Spaniel\", \"Rottweiler\", \"Flat-Coated Retriever\", \"Golden Retriever\", \"American Staffordshire Terrier\", \"Mixed Breed\", \"Bernese Mountain Dog\", \"Mixed Breed\", \"Mixed Breed\", \"Mixed Breed\", \"Golden Retriever\", \"Irish Setter\", \"Boxer\", \"Mixed Breed\", \"Beagle\", \"American Staffordshire Terrier\", \"Labrador Retriever\", \"Boxer\", \"Vizsla\", \"American Staffordshire Terrier\", \"Mixed Breed\", \"Irish Wolfhound\", \"Border Collie\", \"Golden Retriever\", \"Mastiff\", \"Rottweiler\", \"German Shepherd Dog\", \"Golden Retriever\", \"Golden Retriever\", \"Boxer\", \"Golden Retriever\", \"Basset Hound\", \"Mixed Breed\", \"Mixed Breed\", \"Golden Retriever\", \"\", \"Saint Bernard\", \"Bernese Mountain Dog\", \"Labrador Retriever\", \"Other\", \"Other\", \"Beagle\", \"Akita\", \"Labrador Retriever\", \"Mixed Breed\", \"Staffordshire Bull Terrier\", \"Vizsla\", \"Golden Retriever\", \"Mixed Breed\", \"Mixed Breed\", \"Golden Retriever\", \"Doberman Pinscher\", \"Mixed Breed\", \"Mixed Breed\", \"Mixed Breed\", \"Greyhound\", \"German Shepherd Dog\", \"Bernese Mountain Dog\", \"Labrador Retriever\", \"Black and Tan Coonhound\", \"Labrador Retriever\", \"Miniature Schnauzer\", \"Labrador Retriever\", \"Golden Retriever\", \"Golden Retriever\", \"Saint Bernard\", \"Labrador Retriever\", \"Golden Retriever\", \"Golden Retriever\", \"Golden Retriever\", \"Mixed Breed\", \"Golden Retriever\", \"Mixed Breed\", \"Golden Retriever\", \"Golden Retriever\", \"Boxer\", \"American Staffordshire Terrier\", \"Gordon Setter\", \"Bouvier des Flandres\", \"Greyhound\", \"Labrador Retriever\", \"German Shepherd Dog\", \"Rottweiler\", \"Mixed Breed\", \"Labrador Retriever\", \"Australian Shepherd\", \"Doberman Pinscher\", \"Giant Schnauzer\", \"Boxer\", \"Cocker Spaniel\", \"Weimaraner\", \"German Shorthaired Pointer\", \"West Highland White Terrier\", \"Rottweiler\", \"Golden Retriever\", \"Saint Bernard\", \"Mixed Breed\", \"Chinese Shar-Pei\", \"Doberman Pinscher\"], \"xaxis\": \"x\", \"y\": [\"LYMPH NODE\", \"LYMPH NODE\", \"LYMPH NODE\", \"LYMPH NODE\", \"LYMPH NODE\", \"LYMPH NODE\", \"LYMPH NODE\", \"LYMPH NODE\", \"LYMPH NODE\", \"LYMPH NODE\", \"LYMPH NODE\", \"LYMPH NODE\", \"LYMPH NODE\", \"LYMPH NODE\", \"LYMPH NODE\", \"LYMPH NODE\", \"LYMPH NODE\", \"LYMPH NODE\", \"LYMPH NODE\", \"LYMPH NODE\", \"LYMPH NODE\", \"LYMPH NODE\", \"LYMPH NODE\", \"LYMPH NODE\", \"LYMPH NODE\", \"LYMPH NODE\", \"LYMPH NODE\", \"LYMPH NODE\", \"LYMPH NODE\", \"LYMPH NODE\", \"LYMPH NODE\", \"LYMPH NODE\", \"LYMPH NODE\", \"LYMPH NODE\", \"LYMPH NODE\", \"LYMPH NODE\", \"LYMPH NODE\", \"LYMPH NODE\", \"LYMPH NODE\", \"LYMPH NODE\", \"LYMPH NODE\", \"LYMPH NODE\", \"LYMPH NODE\", \"LYMPH NODE\", \"LYMPH NODE\", \"LYMPH NODE\", \"LYMPH NODE\", \"LYMPH NODE\", \"LYMPH NODE\", \"LYMPH NODE\", \"LYMPH NODE\", \"LYMPH NODE\", \"LYMPH NODE\", \"LYMPH NODE\", \"LYMPH NODE\", \"LYMPH NODE\", \"LYMPH NODE\", \"LYMPH NODE\", \"LYMPH NODE\", \"LYMPH NODE\", \"LYMPH NODE\", \"LYMPH NODE\", \"LYMPH NODE\", \"LYMPH NODE\", \"LYMPH NODE\", \"LYMPH NODE\", \"LYMPH NODE\", \"LYMPH NODE\", \"LYMPH NODE\", \"LYMPH NODE\", \"LYMPH NODE\", \"LYMPH NODE\", \"LYMPH NODE\", \"LYMPH NODE\", \"LYMPH NODE\", \"LYMPH NODE\", \"LYMPH NODE\", \"LYMPH NODE\", \"LYMPH NODE\", \"LYMPH NODE\", \"LYMPH NODE\", \"LYMPH NODE\", \"LYMPH NODE\", \"LYMPH NODE\", \"Lymph Node, Popliteal\", \"Lymph Node, Popliteal\", \"Lymph Node, Popliteal\", \"Humerus\", \"Femur\", \"Lymph Node, Popliteal\", \"Lymph Node, Popliteal\", \"Lymph Node, Popliteal\", \"Lymph Node, Popliteal\", \"Lymph Node, Popliteal\", \"Lymph Node, Popliteal\", \"Lymph Node, Popliteal\", \"Lung Multiple Sites\", \"Lymph Node, Popliteal\", \"Mandible\", \"Tibia\", \"Femur\", \"Tibia\", \"Lymph Node\", \"Lymph Node, Popliteal\", \"Lymph Node\", \"Lymph Node\", \"Mandible\", \"Lymph Node, Popliteal\", \"Lymph Node, Popliteal\", \"Lymph Node, Popliteal\", \"Humerus\", \"Radius\", \"Humerus\", \"Humerus\", \"Lymph Node\", \"Mouth\", \"Mouth\", \"Lung, Caudal Right Lobe\", \"Lymph Node\", \"Lymph Node, Popliteal\", \"Lymph Node\", \"Lung, Cranial Left Lobe\", \"Lung, Caudal Aspect Of Left Caudal Lobe\", \"Lymph Node, Popliteal\", \"Humerus\", \"Mouth\", \"Mouth\", \"Mouth\", \"Lung, Caudal Aspect Of Left Caudal Lobe\", \"Lung, Caudal Aspect Of Left Caudal Lobe\", \"Lung, Cranial Left Lobe\", \"Lung, Caudal Right Lobe\", \"Mouth\", \"Lymph Node\", \"Mouth\", \"Lung, Cranial Left Lobe\", \"Humerus\", \"Lung, Cranial Left Lobe\", \"Radius\", \"Lung, Caudal Right Lobe\", \"Lung, Caudal Aspect Of Left Caudal Lobe\", \"Mandible\", \"Mandible\", \"Mouth\"], \"yaxis\": \"y\"}],\n",
       "                        {\"legend\": {\"tracegroupgap\": 0}, \"margin\": {\"t\": 60}, \"template\": {\"data\": {\"bar\": [{\"error_x\": {\"color\": \"#2a3f5f\"}, \"error_y\": {\"color\": \"#2a3f5f\"}, \"marker\": {\"line\": {\"color\": \"#E5ECF6\", \"width\": 0.5}}, \"type\": \"bar\"}], \"barpolar\": [{\"marker\": {\"line\": {\"color\": \"#E5ECF6\", \"width\": 0.5}}, \"type\": \"barpolar\"}], \"carpet\": [{\"aaxis\": {\"endlinecolor\": \"#2a3f5f\", \"gridcolor\": \"white\", \"linecolor\": \"white\", \"minorgridcolor\": \"white\", \"startlinecolor\": \"#2a3f5f\"}, \"baxis\": {\"endlinecolor\": \"#2a3f5f\", \"gridcolor\": \"white\", \"linecolor\": \"white\", \"minorgridcolor\": \"white\", \"startlinecolor\": \"#2a3f5f\"}, \"type\": \"carpet\"}], \"choropleth\": [{\"colorbar\": {\"outlinewidth\": 0, \"ticks\": \"\"}, \"type\": \"choropleth\"}], \"contour\": [{\"colorbar\": {\"outlinewidth\": 0, \"ticks\": \"\"}, \"colorscale\": [[0.0, \"#0d0887\"], [0.1111111111111111, \"#46039f\"], [0.2222222222222222, \"#7201a8\"], [0.3333333333333333, \"#9c179e\"], [0.4444444444444444, \"#bd3786\"], [0.5555555555555556, \"#d8576b\"], [0.6666666666666666, \"#ed7953\"], [0.7777777777777778, \"#fb9f3a\"], [0.8888888888888888, \"#fdca26\"], [1.0, \"#f0f921\"]], \"type\": \"contour\"}], \"contourcarpet\": [{\"colorbar\": {\"outlinewidth\": 0, \"ticks\": \"\"}, \"type\": \"contourcarpet\"}], \"heatmap\": [{\"colorbar\": {\"outlinewidth\": 0, \"ticks\": \"\"}, \"colorscale\": [[0.0, \"#0d0887\"], [0.1111111111111111, \"#46039f\"], [0.2222222222222222, \"#7201a8\"], [0.3333333333333333, \"#9c179e\"], [0.4444444444444444, \"#bd3786\"], [0.5555555555555556, \"#d8576b\"], [0.6666666666666666, \"#ed7953\"], [0.7777777777777778, \"#fb9f3a\"], [0.8888888888888888, \"#fdca26\"], [1.0, \"#f0f921\"]], \"type\": \"heatmap\"}], \"heatmapgl\": [{\"colorbar\": {\"outlinewidth\": 0, \"ticks\": \"\"}, \"colorscale\": [[0.0, \"#0d0887\"], [0.1111111111111111, \"#46039f\"], [0.2222222222222222, \"#7201a8\"], [0.3333333333333333, \"#9c179e\"], [0.4444444444444444, \"#bd3786\"], [0.5555555555555556, \"#d8576b\"], [0.6666666666666666, \"#ed7953\"], [0.7777777777777778, \"#fb9f3a\"], [0.8888888888888888, \"#fdca26\"], [1.0, \"#f0f921\"]], \"type\": \"heatmapgl\"}], \"histogram\": [{\"marker\": {\"colorbar\": {\"outlinewidth\": 0, \"ticks\": \"\"}}, \"type\": \"histogram\"}], \"histogram2d\": [{\"colorbar\": {\"outlinewidth\": 0, \"ticks\": \"\"}, \"colorscale\": [[0.0, \"#0d0887\"], [0.1111111111111111, \"#46039f\"], [0.2222222222222222, \"#7201a8\"], [0.3333333333333333, \"#9c179e\"], [0.4444444444444444, \"#bd3786\"], [0.5555555555555556, \"#d8576b\"], [0.6666666666666666, \"#ed7953\"], [0.7777777777777778, \"#fb9f3a\"], [0.8888888888888888, \"#fdca26\"], [1.0, \"#f0f921\"]], \"type\": \"histogram2d\"}], \"histogram2dcontour\": [{\"colorbar\": {\"outlinewidth\": 0, \"ticks\": \"\"}, \"colorscale\": [[0.0, \"#0d0887\"], [0.1111111111111111, \"#46039f\"], [0.2222222222222222, \"#7201a8\"], [0.3333333333333333, \"#9c179e\"], [0.4444444444444444, \"#bd3786\"], [0.5555555555555556, \"#d8576b\"], [0.6666666666666666, \"#ed7953\"], [0.7777777777777778, \"#fb9f3a\"], [0.8888888888888888, \"#fdca26\"], [1.0, \"#f0f921\"]], \"type\": \"histogram2dcontour\"}], \"mesh3d\": [{\"colorbar\": {\"outlinewidth\": 0, \"ticks\": \"\"}, \"type\": \"mesh3d\"}], \"parcoords\": [{\"line\": {\"colorbar\": {\"outlinewidth\": 0, \"ticks\": \"\"}}, \"type\": \"parcoords\"}], \"pie\": [{\"automargin\": true, \"type\": \"pie\"}], \"scatter\": [{\"marker\": {\"colorbar\": {\"outlinewidth\": 0, \"ticks\": \"\"}}, \"type\": \"scatter\"}], \"scatter3d\": [{\"line\": {\"colorbar\": {\"outlinewidth\": 0, \"ticks\": \"\"}}, \"marker\": {\"colorbar\": {\"outlinewidth\": 0, \"ticks\": \"\"}}, \"type\": \"scatter3d\"}], \"scattercarpet\": [{\"marker\": {\"colorbar\": {\"outlinewidth\": 0, \"ticks\": \"\"}}, \"type\": \"scattercarpet\"}], \"scattergeo\": [{\"marker\": {\"colorbar\": {\"outlinewidth\": 0, \"ticks\": \"\"}}, \"type\": \"scattergeo\"}], \"scattergl\": [{\"marker\": {\"colorbar\": {\"outlinewidth\": 0, \"ticks\": \"\"}}, \"type\": \"scattergl\"}], \"scattermapbox\": [{\"marker\": {\"colorbar\": {\"outlinewidth\": 0, \"ticks\": \"\"}}, \"type\": \"scattermapbox\"}], \"scatterpolar\": [{\"marker\": {\"colorbar\": {\"outlinewidth\": 0, \"ticks\": \"\"}}, \"type\": \"scatterpolar\"}], \"scatterpolargl\": [{\"marker\": {\"colorbar\": {\"outlinewidth\": 0, \"ticks\": \"\"}}, \"type\": \"scatterpolargl\"}], \"scatterternary\": [{\"marker\": {\"colorbar\": {\"outlinewidth\": 0, \"ticks\": \"\"}}, \"type\": \"scatterternary\"}], \"surface\": [{\"colorbar\": {\"outlinewidth\": 0, \"ticks\": \"\"}, \"colorscale\": [[0.0, \"#0d0887\"], [0.1111111111111111, \"#46039f\"], [0.2222222222222222, \"#7201a8\"], [0.3333333333333333, \"#9c179e\"], [0.4444444444444444, \"#bd3786\"], [0.5555555555555556, \"#d8576b\"], [0.6666666666666666, \"#ed7953\"], [0.7777777777777778, \"#fb9f3a\"], [0.8888888888888888, \"#fdca26\"], [1.0, \"#f0f921\"]], \"type\": \"surface\"}], \"table\": [{\"cells\": {\"fill\": {\"color\": \"#EBF0F8\"}, \"line\": {\"color\": \"white\"}}, \"header\": {\"fill\": {\"color\": \"#C8D4E3\"}, \"line\": {\"color\": \"white\"}}, \"type\": \"table\"}]}, \"layout\": {\"annotationdefaults\": {\"arrowcolor\": \"#2a3f5f\", \"arrowhead\": 0, \"arrowwidth\": 1}, \"coloraxis\": {\"colorbar\": {\"outlinewidth\": 0, \"ticks\": \"\"}}, \"colorscale\": {\"diverging\": [[0, \"#8e0152\"], [0.1, \"#c51b7d\"], [0.2, \"#de77ae\"], [0.3, \"#f1b6da\"], [0.4, \"#fde0ef\"], [0.5, \"#f7f7f7\"], [0.6, \"#e6f5d0\"], [0.7, \"#b8e186\"], [0.8, \"#7fbc41\"], [0.9, \"#4d9221\"], [1, \"#276419\"]], \"sequential\": [[0.0, \"#0d0887\"], [0.1111111111111111, \"#46039f\"], [0.2222222222222222, \"#7201a8\"], [0.3333333333333333, \"#9c179e\"], [0.4444444444444444, \"#bd3786\"], [0.5555555555555556, \"#d8576b\"], [0.6666666666666666, \"#ed7953\"], [0.7777777777777778, \"#fb9f3a\"], [0.8888888888888888, \"#fdca26\"], [1.0, \"#f0f921\"]], \"sequentialminus\": [[0.0, \"#0d0887\"], [0.1111111111111111, \"#46039f\"], [0.2222222222222222, \"#7201a8\"], [0.3333333333333333, \"#9c179e\"], [0.4444444444444444, \"#bd3786\"], [0.5555555555555556, \"#d8576b\"], [0.6666666666666666, \"#ed7953\"], [0.7777777777777778, \"#fb9f3a\"], [0.8888888888888888, \"#fdca26\"], [1.0, \"#f0f921\"]]}, \"colorway\": [\"#636efa\", \"#EF553B\", \"#00cc96\", \"#ab63fa\", \"#FFA15A\", \"#19d3f3\", \"#FF6692\", \"#B6E880\", \"#FF97FF\", \"#FECB52\"], \"font\": {\"color\": \"#2a3f5f\"}, \"geo\": {\"bgcolor\": \"white\", \"lakecolor\": \"white\", \"landcolor\": \"#E5ECF6\", \"showlakes\": true, \"showland\": true, \"subunitcolor\": \"white\"}, \"hoverlabel\": {\"align\": \"left\"}, \"hovermode\": \"closest\", \"mapbox\": {\"style\": \"light\"}, \"paper_bgcolor\": \"white\", \"plot_bgcolor\": \"#E5ECF6\", \"polar\": {\"angularaxis\": {\"gridcolor\": \"white\", \"linecolor\": \"white\", \"ticks\": \"\"}, \"bgcolor\": \"#E5ECF6\", \"radialaxis\": {\"gridcolor\": \"white\", \"linecolor\": \"white\", \"ticks\": \"\"}}, \"scene\": {\"xaxis\": {\"backgroundcolor\": \"#E5ECF6\", \"gridcolor\": \"white\", \"gridwidth\": 2, \"linecolor\": \"white\", \"showbackground\": true, \"ticks\": \"\", \"zerolinecolor\": \"white\"}, \"yaxis\": {\"backgroundcolor\": \"#E5ECF6\", \"gridcolor\": \"white\", \"gridwidth\": 2, \"linecolor\": \"white\", \"showbackground\": true, \"ticks\": \"\", \"zerolinecolor\": \"white\"}, \"zaxis\": {\"backgroundcolor\": \"#E5ECF6\", \"gridcolor\": \"white\", \"gridwidth\": 2, \"linecolor\": \"white\", \"showbackground\": true, \"ticks\": \"\", \"zerolinecolor\": \"white\"}}, \"shapedefaults\": {\"line\": {\"color\": \"#2a3f5f\"}}, \"ternary\": {\"aaxis\": {\"gridcolor\": \"white\", \"linecolor\": \"white\", \"ticks\": \"\"}, \"baxis\": {\"gridcolor\": \"white\", \"linecolor\": \"white\", \"ticks\": \"\"}, \"bgcolor\": \"#E5ECF6\", \"caxis\": {\"gridcolor\": \"white\", \"linecolor\": \"white\", \"ticks\": \"\"}}, \"title\": {\"x\": 0.05}, \"xaxis\": {\"automargin\": true, \"gridcolor\": \"white\", \"linecolor\": \"white\", \"ticks\": \"\", \"title\": {\"standoff\": 15}, \"zerolinecolor\": \"white\", \"zerolinewidth\": 2}, \"yaxis\": {\"automargin\": true, \"gridcolor\": \"white\", \"linecolor\": \"white\", \"ticks\": \"\", \"title\": {\"standoff\": 15}, \"zerolinecolor\": \"white\", \"zerolinewidth\": 2}}}, \"xaxis\": {\"anchor\": \"y\", \"domain\": [0.0, 1.0], \"title\": {\"text\": \"demographic_breed_\"}}, \"yaxis\": {\"anchor\": \"x\", \"domain\": [0.0, 1.0], \"title\": {\"text\": \"diagnoses_0_primary_disease_site_\"}}},\n",
       "                        {\"responsive\": true}\n",
       "                    ).then(function(){\n",
       "                            \n",
       "var gd = document.getElementById('4d80d1d5-b055-4eba-bbe9-73c15c313dea');\n",
       "var x = new MutationObserver(function (mutations, observer) {{\n",
       "        var display = window.getComputedStyle(gd).display;\n",
       "        if (!display || display === 'none') {{\n",
       "            console.log([gd, 'removed!']);\n",
       "            Plotly.purge(gd);\n",
       "            observer.disconnect();\n",
       "        }}\n",
       "}});\n",
       "\n",
       "// Listen for the removal of the full notebook cells\n",
       "var notebookContainer = gd.closest('#notebook-container');\n",
       "if (notebookContainer) {{\n",
       "    x.observe(notebookContainer, {childList: true});\n",
       "}}\n",
       "\n",
       "// Listen for the clearing of the current output cell\n",
       "var outputEl = gd.closest('.output');\n",
       "if (outputEl) {{\n",
       "    x.observe(outputEl, {childList: true});\n",
       "}}\n",
       "\n",
       "                        })\n",
       "                };\n",
       "                });\n",
       "            </script>\n",
       "        </div>"
      ]
     },
     "metadata": {},
     "output_type": "display_data"
    }
   ],
   "source": [
    "xaxis = \"demographic_breed_\"\n",
    "yaxis = \"diagnoses_0_primary_disease_site_\"\n",
    "scatterPlot( xaxis, yaxis)"
   ]
  },
  {
   "cell_type": "markdown",
   "metadata": {},
   "source": [
    "Similarly, these tools can be used to produced presentation-ready tables of selected data."
   ]
  },
  {
   "cell_type": "code",
   "execution_count": 33,
   "metadata": {},
   "outputs": [
    {
     "data": {
      "application/vnd.plotly.v1+json": {
       "config": {
        "plotlyServerURL": "https://plot.ly"
       },
       "data": [
        {
         "cells": {
          "values": [
           [
            "COTC007B0201",
            "COTC007B0501",
            "COTC007B0901",
            "COTC007B0502",
            "COTC007B0503",
            "COTC007B0202",
            "COTC007B0601",
            "COTC007B0203",
            "COTC007B0204",
            "COTC007B0902",
            "COTC007B1601",
            "COTC007B0205",
            "COTC007B0401",
            "COTC007B0206",
            "COTC007B0207",
            "COTC007B0208",
            "COTC007B1602",
            "COTC007B0602",
            "COTC007B0402",
            "COTC007B0209",
            "COTC007B0210",
            "COTC007B1603",
            "COTC007B0211",
            "COTC007B0603",
            "COTC007B0403",
            "COTC007B0604",
            "COTC007B1604",
            "COTC007B0404",
            "COTC007B0405",
            "COTC007B0605",
            "COTC007B0212",
            "COTC007B0406",
            "COTC007B0213",
            "COTC007B0504",
            "COTC007B0407",
            "COTC007B0408",
            "COTC007B0505",
            "COTC007B1605",
            "COTC007B0607",
            "COTC007B0506",
            "COTC007B0608",
            "COTC007B1606",
            "COTC007B0507",
            "COTC007B0609",
            "COTC007B0508",
            "COTC007B0610",
            "COTC007B1607",
            "COTC007B0611",
            "COTC007B0214",
            "COTC007B0409",
            "COTC007B0410",
            "COTC007B0509",
            "COTC007B0411",
            "COTC007B0612",
            "COTC007B0613",
            "COTC007B0614",
            "COTC007B1608",
            "COTC007B0101",
            "COTC007B0216",
            "COTC007B0510",
            "COTC007B0301",
            "COTC007B0215",
            "COTC007B0217",
            "COTC007B1609",
            "COTC007B0412",
            "COTC007B1001",
            "COTC007B0615",
            "COTC007B1002",
            "COTC007B0413",
            "COTC007B0302",
            "COTC007B1003",
            "COTC007B0303",
            "COTC007B0218",
            "COTC007B0219",
            "COTC007B0414",
            "COTC007B0415",
            "COTC007B0616",
            "COTC007B0220",
            "COTC007B0304",
            "COTC007B0511",
            "COTC007B0617",
            "COTC007B0512",
            "COTC007B0513",
            "COTC007B0305",
            "NCATS-COP01CCB010015",
            "NCATS-COP01CCB010031",
            "NCATS-COP01CCB010045",
            "NCATS-COP01CCB010072",
            "NCATS-COP01CCB010091",
            "NCATS-COP01CCB010093",
            "NCATS-COP01CCB010178",
            "NCATS-COP01CCB010208",
            "NCATS-COP01CCB010233",
            "NCATS-COP01CCB010234",
            "NCATS-COP01CCB010235",
            "NCATS-COP01CCB010243",
            "NCATS-COP01CCB010285",
            "NCATS-COP01CCB010311",
            "NCATS-COP01CCB010378",
            "NCATS-COP01CCB020018",
            "NCATS-COP01CCB020026",
            "NCATS-COP01CCB020027",
            "NCATS-COP01CCB020031",
            "NCATS-COP01CCB020035",
            "NCATS-COP01CCB020036",
            "NCATS-COP01CCB020054",
            "NCATS-COP01CCB020128",
            "NCATS-COP01CCB030001",
            "NCATS-COP01CCB030003",
            "NCATS-COP01CCB030026",
            "NCATS-COP01CCB030035",
            "NCATS-COP01CCB030064",
            "NCATS-COP01CCB030077",
            "NCATS-COP01CCB030078",
            "NCATS-COP01CCB030156",
            "NCATS-COP01CCB030162",
            "NCATS-COP01CCB030227",
            "NCATS-COP01CCB030255",
            "NCATS-COP01CCB030258",
            "NCATS-COP01CCB030300",
            "NCATS-COP01CCB040184",
            "NCATS-COP01CCB040254",
            "NCATS-COP01CCB040382",
            "NCATS-COP01CCB050004",
            "NCATS-COP01CCB050022",
            "NCATS-COP01CCB050096",
            "NCATS-COP01CCB050170",
            "NCATS-COP01CCB050177",
            "NCATS-COP01CCB050216",
            "NCATS-COP01CCB050227",
            "NCATS-COP01CCB050297",
            "NCATS-COP01CCB050327",
            "NCATS-COP01CCB060030",
            "NCATS-COP01CCB060034",
            "NCATS-COP01CCB060039",
            "NCATS-COP01CCB060051",
            "NCATS-COP01CCB070003",
            "NCATS-COP01CCB070007",
            "NCATS-COP01CCB070013",
            "NCATS-COP01CCB070020",
            "NCATS-COP01CCB070034",
            "NCATS-COP01CCB070102",
            "NCATS-COP01CCB080012",
            "NCATS-COP01CCB080018"
           ],
           [
            8,
            4.2,
            null,
            8,
            11.5,
            10.3,
            7.8,
            8,
            10.6,
            null,
            5.9,
            9.7,
            5.8,
            5.9,
            10.2,
            7.3,
            6.7,
            8,
            4.6,
            4.9,
            8.9,
            null,
            9.9,
            4.7,
            1.4,
            6.4,
            null,
            8,
            6.1,
            4.5,
            10.1,
            7.2,
            8.1,
            3.3,
            3.7,
            5,
            5.2,
            null,
            8.4,
            -76.8,
            4.2,
            null,
            6.2,
            4.3,
            6.5,
            5.4,
            null,
            4.2,
            8.9,
            2.4,
            12.6,
            4.1,
            6,
            3.2,
            13,
            11.5,
            null,
            10.1,
            null,
            9.5,
            5.8,
            null,
            null,
            null,
            7.3,
            7,
            6.2,
            3,
            10.5,
            4.7,
            4.6,
            4.5,
            6.7,
            null,
            7,
            5.2,
            9.7,
            12.2,
            4.8,
            12,
            10,
            7.1,
            7.1,
            6.5,
            12,
            8,
            5,
            10,
            9,
            7,
            7,
            3,
            6,
            7,
            8,
            7,
            10,
            10,
            12,
            12,
            7,
            7,
            8,
            9,
            10,
            7,
            10,
            5,
            6,
            9,
            8,
            8,
            10,
            9,
            4,
            12,
            13,
            7,
            9,
            9,
            4,
            13,
            10,
            13,
            10,
            8,
            10,
            13,
            13,
            11,
            10,
            8,
            12,
            4,
            10,
            13,
            12,
            6,
            11,
            13,
            9,
            12,
            9,
            9
           ],
           [
            "Spayed female",
            "Castrated male",
            "Spayed female",
            "Male Phenotype",
            "Spayed female",
            "Castrated male",
            "Castrated male",
            "Castrated male",
            "Castrated male",
            "Castrated male",
            "Castrated male",
            "Spayed female",
            "Castrated male",
            "Spayed female",
            "Spayed female",
            "Spayed female",
            "Female Phenotype",
            "Castrated male",
            "Spayed female",
            "Castrated male",
            "Male Phenotype",
            "Castrated male",
            "Castrated male",
            "Castrated male",
            "Spayed female",
            "Castrated male",
            "Castrated male",
            "Castrated male",
            "Castrated male",
            "Spayed female",
            "Spayed female",
            "Spayed female",
            "Male Phenotype",
            "Castrated male",
            "Male Phenotype",
            "Spayed female",
            "Castrated male",
            "Castrated male",
            "Castrated male",
            "Spayed female",
            "Castrated male",
            "Spayed female",
            "Spayed female",
            "Castrated male",
            "Male Phenotype",
            "Castrated male",
            "Spayed female",
            "Spayed female",
            "Castrated male",
            "Castrated male",
            "Spayed female",
            "Female Phenotype",
            "Spayed female",
            "Castrated male",
            "Castrated male",
            "Castrated male",
            "Spayed female",
            "Spayed female",
            "Spayed female",
            "Castrated male",
            "Spayed female",
            "Spayed female",
            "Castrated male",
            "Castrated male",
            "Castrated male",
            "Female Phenotype",
            "Male Phenotype",
            "Castrated male",
            "Castrated male",
            "Spayed female",
            "Female Phenotype",
            "Female Phenotype",
            "Castrated male",
            "Castrated male",
            "Castrated male",
            "Spayed female",
            "Male Phenotype",
            "Castrated male",
            "Castrated male",
            "Castrated male",
            "Spayed female",
            "Castrated male",
            "Castrated male",
            "Male Phenotype",
            "Male",
            "Male",
            "Female",
            "Female",
            "Female",
            "Male",
            "Male",
            "Female",
            "Male",
            "Male",
            "Female",
            "Female",
            "Female",
            "Female",
            "Female",
            "Male",
            "Male",
            "Female",
            "Male",
            "Female",
            "Female",
            "Male",
            "Female",
            "Female",
            "Male",
            "Male",
            "Female",
            "Female",
            "Male",
            "Male",
            "Male",
            "Female",
            "Male",
            "Female",
            "Male",
            "Male",
            "Male",
            "Female",
            "Female",
            "Female",
            "Male",
            "Male",
            "Male",
            "Female",
            "Male",
            "Female",
            "Female",
            "Male",
            "Female",
            "Female",
            "Male",
            "Female",
            "Female",
            "Male",
            "Male",
            "Female",
            "Female",
            "Female",
            "Female",
            "Female"
           ],
           [
            null,
            null,
            null,
            null,
            null,
            null,
            null,
            null,
            null,
            null,
            null,
            null,
            null,
            null,
            null,
            null,
            null,
            null,
            null,
            null,
            null,
            null,
            null,
            null,
            null,
            null,
            null,
            null,
            null,
            null,
            null,
            null,
            null,
            null,
            null,
            null,
            null,
            null,
            null,
            null,
            null,
            null,
            null,
            null,
            null,
            null,
            null,
            null,
            null,
            null,
            null,
            null,
            null,
            null,
            null,
            null,
            null,
            null,
            null,
            null,
            null,
            null,
            null,
            null,
            null,
            null,
            null,
            null,
            null,
            null,
            null,
            null,
            null,
            null,
            null,
            null,
            null,
            null,
            null,
            null,
            null,
            null,
            null,
            null,
            "38",
            "31",
            "12",
            "31.8",
            "28",
            "49.8",
            "37.2",
            "22.4",
            "38",
            "30",
            "35.5",
            "25",
            "28",
            "22.3",
            "27.5",
            "18.8",
            "37.5",
            "35",
            "44.8",
            "32",
            "34.1",
            "37.1",
            "4",
            "36",
            "39",
            "42",
            "62",
            "30",
            "33",
            "37",
            "40",
            "30",
            "37",
            "13",
            "32.6",
            "33.8",
            "39.1",
            "27.3",
            "32",
            "29.4",
            "29.4",
            "35.8",
            "46.1",
            "31.6",
            "23.7",
            "36.5",
            "21.5",
            "43",
            "31.2",
            "29",
            "15",
            "28",
            "35.2",
            "7.3",
            "35",
            "34",
            "63.9",
            "3.9",
            "20.5",
            "43.2"
           ],
           [
            "Samoyed",
            "Golden Retriever",
            "Gordon Setter",
            "Other",
            "Beagle",
            "Golden Retriever",
            "English Setter",
            "Black and Tan Coonhound",
            "Australian Shepherd",
            "Mixed Breed",
            "Bullmastiff",
            "Mixed Breed",
            "Mixed Breed",
            "Golden Retriever",
            "Boxer",
            "German Shepherd Dog",
            "Basset Hound",
            "Mixed Breed",
            "Labrador Retriever",
            "Doberman Pinscher",
            "Bullmastiff",
            "Boxer",
            "Beagle",
            "Boxer",
            "Bernese Mountain Dog",
            "Rottweiler",
            "Mixed Breed",
            "Golden Retriever",
            "Mixed Breed",
            "Mixed Breed",
            "Boxer",
            "Mixed Breed",
            "Belgian Malinois",
            "Bernese Mountain Dog",
            "Doberman Pinscher",
            "Chesapeake Bay Retriever",
            "Rottweiler",
            "Mixed Breed",
            "Border Collie",
            "Mixed Breed",
            "Beagle",
            "Golden Retriever",
            "Golden Retriever",
            "Bullmastiff",
            "Bernese Mountain Dog",
            "Cavalier King Charles Spaniel",
            "Rottweiler",
            "Flat-Coated Retriever",
            "Golden Retriever",
            "American Staffordshire Terrier",
            "Mixed Breed",
            "Bernese Mountain Dog",
            "Mixed Breed",
            "Mixed Breed",
            "Mixed Breed",
            "Golden Retriever",
            "Irish Setter",
            "Boxer",
            "Mixed Breed",
            "Beagle",
            "American Staffordshire Terrier",
            "Labrador Retriever",
            "Boxer",
            "Vizsla",
            "American Staffordshire Terrier",
            "Mixed Breed",
            "Irish Wolfhound",
            "Border Collie",
            "Golden Retriever",
            "Mastiff",
            "Rottweiler",
            "German Shepherd Dog",
            "Golden Retriever",
            "Golden Retriever",
            "Boxer",
            "Golden Retriever",
            "Basset Hound",
            "Mixed Breed",
            "Mixed Breed",
            "Golden Retriever",
            "",
            "Saint Bernard",
            "Bernese Mountain Dog",
            "Labrador Retriever",
            "Other",
            "Other",
            "Beagle",
            "Akita",
            "Labrador Retriever",
            "Mixed Breed",
            "Staffordshire Bull Terrier",
            "Vizsla",
            "Golden Retriever",
            "Mixed Breed",
            "Mixed Breed",
            "Golden Retriever",
            "Doberman Pinscher",
            "Mixed Breed",
            "Mixed Breed",
            "Mixed Breed",
            "Greyhound",
            "German Shepherd Dog",
            "Bernese Mountain Dog",
            "Labrador Retriever",
            "Black and Tan Coonhound",
            "Labrador Retriever",
            "Miniature Schnauzer",
            "Labrador Retriever",
            "Golden Retriever",
            "Golden Retriever",
            "Saint Bernard",
            "Labrador Retriever",
            "Golden Retriever",
            "Golden Retriever",
            "Golden Retriever",
            "Mixed Breed",
            "Golden Retriever",
            "Mixed Breed",
            "Golden Retriever",
            "Golden Retriever",
            "Boxer",
            "American Staffordshire Terrier",
            "Gordon Setter",
            "Bouvier des Flandres",
            "Greyhound",
            "Labrador Retriever",
            "German Shepherd Dog",
            "Rottweiler",
            "Mixed Breed",
            "Labrador Retriever",
            "Australian Shepherd",
            "Doberman Pinscher",
            "Giant Schnauzer",
            "Boxer",
            "Cocker Spaniel",
            "Weimaraner",
            "German Shorthaired Pointer",
            "West Highland White Terrier",
            "Rottweiler",
            "Golden Retriever",
            "Saint Bernard",
            "Mixed Breed",
            "Chinese Shar-Pei",
            "Doberman Pinscher"
           ]
          ]
         },
         "header": {
          "values": [
           "case_id_",
           "demographic_patient_age_at_enrollment_",
           "demographic_sex_",
           "demographic_weight_",
           "demographic_breed_"
          ]
         },
         "type": "table"
        }
       ],
       "layout": {
        "template": {
         "data": {
          "bar": [
           {
            "error_x": {
             "color": "#2a3f5f"
            },
            "error_y": {
             "color": "#2a3f5f"
            },
            "marker": {
             "line": {
              "color": "#E5ECF6",
              "width": 0.5
             }
            },
            "type": "bar"
           }
          ],
          "barpolar": [
           {
            "marker": {
             "line": {
              "color": "#E5ECF6",
              "width": 0.5
             }
            },
            "type": "barpolar"
           }
          ],
          "carpet": [
           {
            "aaxis": {
             "endlinecolor": "#2a3f5f",
             "gridcolor": "white",
             "linecolor": "white",
             "minorgridcolor": "white",
             "startlinecolor": "#2a3f5f"
            },
            "baxis": {
             "endlinecolor": "#2a3f5f",
             "gridcolor": "white",
             "linecolor": "white",
             "minorgridcolor": "white",
             "startlinecolor": "#2a3f5f"
            },
            "type": "carpet"
           }
          ],
          "choropleth": [
           {
            "colorbar": {
             "outlinewidth": 0,
             "ticks": ""
            },
            "type": "choropleth"
           }
          ],
          "contour": [
           {
            "colorbar": {
             "outlinewidth": 0,
             "ticks": ""
            },
            "colorscale": [
             [
              0,
              "#0d0887"
             ],
             [
              0.1111111111111111,
              "#46039f"
             ],
             [
              0.2222222222222222,
              "#7201a8"
             ],
             [
              0.3333333333333333,
              "#9c179e"
             ],
             [
              0.4444444444444444,
              "#bd3786"
             ],
             [
              0.5555555555555556,
              "#d8576b"
             ],
             [
              0.6666666666666666,
              "#ed7953"
             ],
             [
              0.7777777777777778,
              "#fb9f3a"
             ],
             [
              0.8888888888888888,
              "#fdca26"
             ],
             [
              1,
              "#f0f921"
             ]
            ],
            "type": "contour"
           }
          ],
          "contourcarpet": [
           {
            "colorbar": {
             "outlinewidth": 0,
             "ticks": ""
            },
            "type": "contourcarpet"
           }
          ],
          "heatmap": [
           {
            "colorbar": {
             "outlinewidth": 0,
             "ticks": ""
            },
            "colorscale": [
             [
              0,
              "#0d0887"
             ],
             [
              0.1111111111111111,
              "#46039f"
             ],
             [
              0.2222222222222222,
              "#7201a8"
             ],
             [
              0.3333333333333333,
              "#9c179e"
             ],
             [
              0.4444444444444444,
              "#bd3786"
             ],
             [
              0.5555555555555556,
              "#d8576b"
             ],
             [
              0.6666666666666666,
              "#ed7953"
             ],
             [
              0.7777777777777778,
              "#fb9f3a"
             ],
             [
              0.8888888888888888,
              "#fdca26"
             ],
             [
              1,
              "#f0f921"
             ]
            ],
            "type": "heatmap"
           }
          ],
          "heatmapgl": [
           {
            "colorbar": {
             "outlinewidth": 0,
             "ticks": ""
            },
            "colorscale": [
             [
              0,
              "#0d0887"
             ],
             [
              0.1111111111111111,
              "#46039f"
             ],
             [
              0.2222222222222222,
              "#7201a8"
             ],
             [
              0.3333333333333333,
              "#9c179e"
             ],
             [
              0.4444444444444444,
              "#bd3786"
             ],
             [
              0.5555555555555556,
              "#d8576b"
             ],
             [
              0.6666666666666666,
              "#ed7953"
             ],
             [
              0.7777777777777778,
              "#fb9f3a"
             ],
             [
              0.8888888888888888,
              "#fdca26"
             ],
             [
              1,
              "#f0f921"
             ]
            ],
            "type": "heatmapgl"
           }
          ],
          "histogram": [
           {
            "marker": {
             "colorbar": {
              "outlinewidth": 0,
              "ticks": ""
             }
            },
            "type": "histogram"
           }
          ],
          "histogram2d": [
           {
            "colorbar": {
             "outlinewidth": 0,
             "ticks": ""
            },
            "colorscale": [
             [
              0,
              "#0d0887"
             ],
             [
              0.1111111111111111,
              "#46039f"
             ],
             [
              0.2222222222222222,
              "#7201a8"
             ],
             [
              0.3333333333333333,
              "#9c179e"
             ],
             [
              0.4444444444444444,
              "#bd3786"
             ],
             [
              0.5555555555555556,
              "#d8576b"
             ],
             [
              0.6666666666666666,
              "#ed7953"
             ],
             [
              0.7777777777777778,
              "#fb9f3a"
             ],
             [
              0.8888888888888888,
              "#fdca26"
             ],
             [
              1,
              "#f0f921"
             ]
            ],
            "type": "histogram2d"
           }
          ],
          "histogram2dcontour": [
           {
            "colorbar": {
             "outlinewidth": 0,
             "ticks": ""
            },
            "colorscale": [
             [
              0,
              "#0d0887"
             ],
             [
              0.1111111111111111,
              "#46039f"
             ],
             [
              0.2222222222222222,
              "#7201a8"
             ],
             [
              0.3333333333333333,
              "#9c179e"
             ],
             [
              0.4444444444444444,
              "#bd3786"
             ],
             [
              0.5555555555555556,
              "#d8576b"
             ],
             [
              0.6666666666666666,
              "#ed7953"
             ],
             [
              0.7777777777777778,
              "#fb9f3a"
             ],
             [
              0.8888888888888888,
              "#fdca26"
             ],
             [
              1,
              "#f0f921"
             ]
            ],
            "type": "histogram2dcontour"
           }
          ],
          "mesh3d": [
           {
            "colorbar": {
             "outlinewidth": 0,
             "ticks": ""
            },
            "type": "mesh3d"
           }
          ],
          "parcoords": [
           {
            "line": {
             "colorbar": {
              "outlinewidth": 0,
              "ticks": ""
             }
            },
            "type": "parcoords"
           }
          ],
          "pie": [
           {
            "automargin": true,
            "type": "pie"
           }
          ],
          "scatter": [
           {
            "marker": {
             "colorbar": {
              "outlinewidth": 0,
              "ticks": ""
             }
            },
            "type": "scatter"
           }
          ],
          "scatter3d": [
           {
            "line": {
             "colorbar": {
              "outlinewidth": 0,
              "ticks": ""
             }
            },
            "marker": {
             "colorbar": {
              "outlinewidth": 0,
              "ticks": ""
             }
            },
            "type": "scatter3d"
           }
          ],
          "scattercarpet": [
           {
            "marker": {
             "colorbar": {
              "outlinewidth": 0,
              "ticks": ""
             }
            },
            "type": "scattercarpet"
           }
          ],
          "scattergeo": [
           {
            "marker": {
             "colorbar": {
              "outlinewidth": 0,
              "ticks": ""
             }
            },
            "type": "scattergeo"
           }
          ],
          "scattergl": [
           {
            "marker": {
             "colorbar": {
              "outlinewidth": 0,
              "ticks": ""
             }
            },
            "type": "scattergl"
           }
          ],
          "scattermapbox": [
           {
            "marker": {
             "colorbar": {
              "outlinewidth": 0,
              "ticks": ""
             }
            },
            "type": "scattermapbox"
           }
          ],
          "scatterpolar": [
           {
            "marker": {
             "colorbar": {
              "outlinewidth": 0,
              "ticks": ""
             }
            },
            "type": "scatterpolar"
           }
          ],
          "scatterpolargl": [
           {
            "marker": {
             "colorbar": {
              "outlinewidth": 0,
              "ticks": ""
             }
            },
            "type": "scatterpolargl"
           }
          ],
          "scatterternary": [
           {
            "marker": {
             "colorbar": {
              "outlinewidth": 0,
              "ticks": ""
             }
            },
            "type": "scatterternary"
           }
          ],
          "surface": [
           {
            "colorbar": {
             "outlinewidth": 0,
             "ticks": ""
            },
            "colorscale": [
             [
              0,
              "#0d0887"
             ],
             [
              0.1111111111111111,
              "#46039f"
             ],
             [
              0.2222222222222222,
              "#7201a8"
             ],
             [
              0.3333333333333333,
              "#9c179e"
             ],
             [
              0.4444444444444444,
              "#bd3786"
             ],
             [
              0.5555555555555556,
              "#d8576b"
             ],
             [
              0.6666666666666666,
              "#ed7953"
             ],
             [
              0.7777777777777778,
              "#fb9f3a"
             ],
             [
              0.8888888888888888,
              "#fdca26"
             ],
             [
              1,
              "#f0f921"
             ]
            ],
            "type": "surface"
           }
          ],
          "table": [
           {
            "cells": {
             "fill": {
              "color": "#EBF0F8"
             },
             "line": {
              "color": "white"
             }
            },
            "header": {
             "fill": {
              "color": "#C8D4E3"
             },
             "line": {
              "color": "white"
             }
            },
            "type": "table"
           }
          ]
         },
         "layout": {
          "annotationdefaults": {
           "arrowcolor": "#2a3f5f",
           "arrowhead": 0,
           "arrowwidth": 1
          },
          "coloraxis": {
           "colorbar": {
            "outlinewidth": 0,
            "ticks": ""
           }
          },
          "colorscale": {
           "diverging": [
            [
             0,
             "#8e0152"
            ],
            [
             0.1,
             "#c51b7d"
            ],
            [
             0.2,
             "#de77ae"
            ],
            [
             0.3,
             "#f1b6da"
            ],
            [
             0.4,
             "#fde0ef"
            ],
            [
             0.5,
             "#f7f7f7"
            ],
            [
             0.6,
             "#e6f5d0"
            ],
            [
             0.7,
             "#b8e186"
            ],
            [
             0.8,
             "#7fbc41"
            ],
            [
             0.9,
             "#4d9221"
            ],
            [
             1,
             "#276419"
            ]
           ],
           "sequential": [
            [
             0,
             "#0d0887"
            ],
            [
             0.1111111111111111,
             "#46039f"
            ],
            [
             0.2222222222222222,
             "#7201a8"
            ],
            [
             0.3333333333333333,
             "#9c179e"
            ],
            [
             0.4444444444444444,
             "#bd3786"
            ],
            [
             0.5555555555555556,
             "#d8576b"
            ],
            [
             0.6666666666666666,
             "#ed7953"
            ],
            [
             0.7777777777777778,
             "#fb9f3a"
            ],
            [
             0.8888888888888888,
             "#fdca26"
            ],
            [
             1,
             "#f0f921"
            ]
           ],
           "sequentialminus": [
            [
             0,
             "#0d0887"
            ],
            [
             0.1111111111111111,
             "#46039f"
            ],
            [
             0.2222222222222222,
             "#7201a8"
            ],
            [
             0.3333333333333333,
             "#9c179e"
            ],
            [
             0.4444444444444444,
             "#bd3786"
            ],
            [
             0.5555555555555556,
             "#d8576b"
            ],
            [
             0.6666666666666666,
             "#ed7953"
            ],
            [
             0.7777777777777778,
             "#fb9f3a"
            ],
            [
             0.8888888888888888,
             "#fdca26"
            ],
            [
             1,
             "#f0f921"
            ]
           ]
          },
          "colorway": [
           "#636efa",
           "#EF553B",
           "#00cc96",
           "#ab63fa",
           "#FFA15A",
           "#19d3f3",
           "#FF6692",
           "#B6E880",
           "#FF97FF",
           "#FECB52"
          ],
          "font": {
           "color": "#2a3f5f"
          },
          "geo": {
           "bgcolor": "white",
           "lakecolor": "white",
           "landcolor": "#E5ECF6",
           "showlakes": true,
           "showland": true,
           "subunitcolor": "white"
          },
          "hoverlabel": {
           "align": "left"
          },
          "hovermode": "closest",
          "mapbox": {
           "style": "light"
          },
          "paper_bgcolor": "white",
          "plot_bgcolor": "#E5ECF6",
          "polar": {
           "angularaxis": {
            "gridcolor": "white",
            "linecolor": "white",
            "ticks": ""
           },
           "bgcolor": "#E5ECF6",
           "radialaxis": {
            "gridcolor": "white",
            "linecolor": "white",
            "ticks": ""
           }
          },
          "scene": {
           "xaxis": {
            "backgroundcolor": "#E5ECF6",
            "gridcolor": "white",
            "gridwidth": 2,
            "linecolor": "white",
            "showbackground": true,
            "ticks": "",
            "zerolinecolor": "white"
           },
           "yaxis": {
            "backgroundcolor": "#E5ECF6",
            "gridcolor": "white",
            "gridwidth": 2,
            "linecolor": "white",
            "showbackground": true,
            "ticks": "",
            "zerolinecolor": "white"
           },
           "zaxis": {
            "backgroundcolor": "#E5ECF6",
            "gridcolor": "white",
            "gridwidth": 2,
            "linecolor": "white",
            "showbackground": true,
            "ticks": "",
            "zerolinecolor": "white"
           }
          },
          "shapedefaults": {
           "line": {
            "color": "#2a3f5f"
           }
          },
          "ternary": {
           "aaxis": {
            "gridcolor": "white",
            "linecolor": "white",
            "ticks": ""
           },
           "baxis": {
            "gridcolor": "white",
            "linecolor": "white",
            "ticks": ""
           },
           "bgcolor": "#E5ECF6",
           "caxis": {
            "gridcolor": "white",
            "linecolor": "white",
            "ticks": ""
           }
          },
          "title": {
           "x": 0.05
          },
          "xaxis": {
           "automargin": true,
           "gridcolor": "white",
           "linecolor": "white",
           "ticks": "",
           "title": {
            "standoff": 15
           },
           "zerolinecolor": "white",
           "zerolinewidth": 2
          },
          "yaxis": {
           "automargin": true,
           "gridcolor": "white",
           "linecolor": "white",
           "ticks": "",
           "title": {
            "standoff": 15
           },
           "zerolinecolor": "white",
           "zerolinewidth": 2
          }
         }
        }
       }
      },
      "text/html": [
       "<div>\n",
       "        \n",
       "        \n",
       "            <div id=\"2d8e3580-df0c-4903-8fb8-f13bfdcd4230\" class=\"plotly-graph-div\" style=\"height:525px; width:100%;\"></div>\n",
       "            <script type=\"text/javascript\">\n",
       "                require([\"plotly\"], function(Plotly) {\n",
       "                    window.PLOTLYENV=window.PLOTLYENV || {};\n",
       "                    \n",
       "                if (document.getElementById(\"2d8e3580-df0c-4903-8fb8-f13bfdcd4230\")) {\n",
       "                    Plotly.newPlot(\n",
       "                        '2d8e3580-df0c-4903-8fb8-f13bfdcd4230',\n",
       "                        [{\"cells\": {\"values\": [[\"COTC007B0201\", \"COTC007B0501\", \"COTC007B0901\", \"COTC007B0502\", \"COTC007B0503\", \"COTC007B0202\", \"COTC007B0601\", \"COTC007B0203\", \"COTC007B0204\", \"COTC007B0902\", \"COTC007B1601\", \"COTC007B0205\", \"COTC007B0401\", \"COTC007B0206\", \"COTC007B0207\", \"COTC007B0208\", \"COTC007B1602\", \"COTC007B0602\", \"COTC007B0402\", \"COTC007B0209\", \"COTC007B0210\", \"COTC007B1603\", \"COTC007B0211\", \"COTC007B0603\", \"COTC007B0403\", \"COTC007B0604\", \"COTC007B1604\", \"COTC007B0404\", \"COTC007B0405\", \"COTC007B0605\", \"COTC007B0212\", \"COTC007B0406\", \"COTC007B0213\", \"COTC007B0504\", \"COTC007B0407\", \"COTC007B0408\", \"COTC007B0505\", \"COTC007B1605\", \"COTC007B0607\", \"COTC007B0506\", \"COTC007B0608\", \"COTC007B1606\", \"COTC007B0507\", \"COTC007B0609\", \"COTC007B0508\", \"COTC007B0610\", \"COTC007B1607\", \"COTC007B0611\", \"COTC007B0214\", \"COTC007B0409\", \"COTC007B0410\", \"COTC007B0509\", \"COTC007B0411\", \"COTC007B0612\", \"COTC007B0613\", \"COTC007B0614\", \"COTC007B1608\", \"COTC007B0101\", \"COTC007B0216\", \"COTC007B0510\", \"COTC007B0301\", \"COTC007B0215\", \"COTC007B0217\", \"COTC007B1609\", \"COTC007B0412\", \"COTC007B1001\", \"COTC007B0615\", \"COTC007B1002\", \"COTC007B0413\", \"COTC007B0302\", \"COTC007B1003\", \"COTC007B0303\", \"COTC007B0218\", \"COTC007B0219\", \"COTC007B0414\", \"COTC007B0415\", \"COTC007B0616\", \"COTC007B0220\", \"COTC007B0304\", \"COTC007B0511\", \"COTC007B0617\", \"COTC007B0512\", \"COTC007B0513\", \"COTC007B0305\", \"NCATS-COP01CCB010015\", \"NCATS-COP01CCB010031\", \"NCATS-COP01CCB010045\", \"NCATS-COP01CCB010072\", \"NCATS-COP01CCB010091\", \"NCATS-COP01CCB010093\", \"NCATS-COP01CCB010178\", \"NCATS-COP01CCB010208\", \"NCATS-COP01CCB010233\", \"NCATS-COP01CCB010234\", \"NCATS-COP01CCB010235\", \"NCATS-COP01CCB010243\", \"NCATS-COP01CCB010285\", \"NCATS-COP01CCB010311\", \"NCATS-COP01CCB010378\", \"NCATS-COP01CCB020018\", \"NCATS-COP01CCB020026\", \"NCATS-COP01CCB020027\", \"NCATS-COP01CCB020031\", \"NCATS-COP01CCB020035\", \"NCATS-COP01CCB020036\", \"NCATS-COP01CCB020054\", \"NCATS-COP01CCB020128\", \"NCATS-COP01CCB030001\", \"NCATS-COP01CCB030003\", \"NCATS-COP01CCB030026\", \"NCATS-COP01CCB030035\", \"NCATS-COP01CCB030064\", \"NCATS-COP01CCB030077\", \"NCATS-COP01CCB030078\", \"NCATS-COP01CCB030156\", \"NCATS-COP01CCB030162\", \"NCATS-COP01CCB030227\", \"NCATS-COP01CCB030255\", \"NCATS-COP01CCB030258\", \"NCATS-COP01CCB030300\", \"NCATS-COP01CCB040184\", \"NCATS-COP01CCB040254\", \"NCATS-COP01CCB040382\", \"NCATS-COP01CCB050004\", \"NCATS-COP01CCB050022\", \"NCATS-COP01CCB050096\", \"NCATS-COP01CCB050170\", \"NCATS-COP01CCB050177\", \"NCATS-COP01CCB050216\", \"NCATS-COP01CCB050227\", \"NCATS-COP01CCB050297\", \"NCATS-COP01CCB050327\", \"NCATS-COP01CCB060030\", \"NCATS-COP01CCB060034\", \"NCATS-COP01CCB060039\", \"NCATS-COP01CCB060051\", \"NCATS-COP01CCB070003\", \"NCATS-COP01CCB070007\", \"NCATS-COP01CCB070013\", \"NCATS-COP01CCB070020\", \"NCATS-COP01CCB070034\", \"NCATS-COP01CCB070102\", \"NCATS-COP01CCB080012\", \"NCATS-COP01CCB080018\"], [8.0, 4.2, null, 8.0, 11.5, 10.3, 7.8, 8.0, 10.6, null, 5.9, 9.7, 5.8, 5.9, 10.2, 7.3, 6.7, 8.0, 4.6, 4.9, 8.9, null, 9.9, 4.7, 1.4, 6.4, null, 8.0, 6.1, 4.5, 10.1, 7.2, 8.1, 3.3, 3.7, 5.0, 5.2, null, 8.4, -76.8, 4.2, null, 6.2, 4.3, 6.5, 5.4, null, 4.2, 8.9, 2.4, 12.6, 4.1, 6.0, 3.2, 13.0, 11.5, null, 10.1, null, 9.5, 5.8, null, null, null, 7.3, 7.0, 6.2, 3.0, 10.5, 4.7, 4.6, 4.5, 6.7, null, 7.0, 5.2, 9.7, 12.2, 4.8, 12.0, 10.0, 7.1, 7.1, 6.5, 12.0, 8.0, 5.0, 10.0, 9.0, 7.0, 7.0, 3.0, 6.0, 7.0, 8.0, 7.0, 10.0, 10.0, 12.0, 12.0, 7.0, 7.0, 8.0, 9.0, 10.0, 7.0, 10.0, 5.0, 6.0, 9.0, 8.0, 8.0, 10.0, 9.0, 4.0, 12.0, 13.0, 7.0, 9.0, 9.0, 4.0, 13.0, 10.0, 13.0, 10.0, 8.0, 10.0, 13.0, 13.0, 11.0, 10.0, 8.0, 12.0, 4.0, 10.0, 13.0, 12.0, 6.0, 11.0, 13.0, 9.0, 12.0, 9.0, 9.0], [\"Spayed female\", \"Castrated male\", \"Spayed female\", \"Male Phenotype\", \"Spayed female\", \"Castrated male\", \"Castrated male\", \"Castrated male\", \"Castrated male\", \"Castrated male\", \"Castrated male\", \"Spayed female\", \"Castrated male\", \"Spayed female\", \"Spayed female\", \"Spayed female\", \"Female Phenotype\", \"Castrated male\", \"Spayed female\", \"Castrated male\", \"Male Phenotype\", \"Castrated male\", \"Castrated male\", \"Castrated male\", \"Spayed female\", \"Castrated male\", \"Castrated male\", \"Castrated male\", \"Castrated male\", \"Spayed female\", \"Spayed female\", \"Spayed female\", \"Male Phenotype\", \"Castrated male\", \"Male Phenotype\", \"Spayed female\", \"Castrated male\", \"Castrated male\", \"Castrated male\", \"Spayed female\", \"Castrated male\", \"Spayed female\", \"Spayed female\", \"Castrated male\", \"Male Phenotype\", \"Castrated male\", \"Spayed female\", \"Spayed female\", \"Castrated male\", \"Castrated male\", \"Spayed female\", \"Female Phenotype\", \"Spayed female\", \"Castrated male\", \"Castrated male\", \"Castrated male\", \"Spayed female\", \"Spayed female\", \"Spayed female\", \"Castrated male\", \"Spayed female\", \"Spayed female\", \"Castrated male\", \"Castrated male\", \"Castrated male\", \"Female Phenotype\", \"Male Phenotype\", \"Castrated male\", \"Castrated male\", \"Spayed female\", \"Female Phenotype\", \"Female Phenotype\", \"Castrated male\", \"Castrated male\", \"Castrated male\", \"Spayed female\", \"Male Phenotype\", \"Castrated male\", \"Castrated male\", \"Castrated male\", \"Spayed female\", \"Castrated male\", \"Castrated male\", \"Male Phenotype\", \"Male\", \"Male\", \"Female\", \"Female\", \"Female\", \"Male\", \"Male\", \"Female\", \"Male\", \"Male\", \"Female\", \"Female\", \"Female\", \"Female\", \"Female\", \"Male\", \"Male\", \"Female\", \"Male\", \"Female\", \"Female\", \"Male\", \"Female\", \"Female\", \"Male\", \"Male\", \"Female\", \"Female\", \"Male\", \"Male\", \"Male\", \"Female\", \"Male\", \"Female\", \"Male\", \"Male\", \"Male\", \"Female\", \"Female\", \"Female\", \"Male\", \"Male\", \"Male\", \"Female\", \"Male\", \"Female\", \"Female\", \"Male\", \"Female\", \"Female\", \"Male\", \"Female\", \"Female\", \"Male\", \"Male\", \"Female\", \"Female\", \"Female\", \"Female\", \"Female\"], [null, null, null, null, null, null, null, null, null, null, null, null, null, null, null, null, null, null, null, null, null, null, null, null, null, null, null, null, null, null, null, null, null, null, null, null, null, null, null, null, null, null, null, null, null, null, null, null, null, null, null, null, null, null, null, null, null, null, null, null, null, null, null, null, null, null, null, null, null, null, null, null, null, null, null, null, null, null, null, null, null, null, null, null, \"38\", \"31\", \"12\", \"31.8\", \"28\", \"49.8\", \"37.2\", \"22.4\", \"38\", \"30\", \"35.5\", \"25\", \"28\", \"22.3\", \"27.5\", \"18.8\", \"37.5\", \"35\", \"44.8\", \"32\", \"34.1\", \"37.1\", \"4\", \"36\", \"39\", \"42\", \"62\", \"30\", \"33\", \"37\", \"40\", \"30\", \"37\", \"13\", \"32.6\", \"33.8\", \"39.1\", \"27.3\", \"32\", \"29.4\", \"29.4\", \"35.8\", \"46.1\", \"31.6\", \"23.7\", \"36.5\", \"21.5\", \"43\", \"31.2\", \"29\", \"15\", \"28\", \"35.2\", \"7.3\", \"35\", \"34\", \"63.9\", \"3.9\", \"20.5\", \"43.2\"], [\"Samoyed\", \"Golden Retriever\", \"Gordon Setter\", \"Other\", \"Beagle\", \"Golden Retriever\", \"English Setter\", \"Black and Tan Coonhound\", \"Australian Shepherd\", \"Mixed Breed\", \"Bullmastiff\", \"Mixed Breed\", \"Mixed Breed\", \"Golden Retriever\", \"Boxer\", \"German Shepherd Dog\", \"Basset Hound\", \"Mixed Breed\", \"Labrador Retriever\", \"Doberman Pinscher\", \"Bullmastiff\", \"Boxer\", \"Beagle\", \"Boxer\", \"Bernese Mountain Dog\", \"Rottweiler\", \"Mixed Breed\", \"Golden Retriever\", \"Mixed Breed\", \"Mixed Breed\", \"Boxer\", \"Mixed Breed\", \"Belgian Malinois\", \"Bernese Mountain Dog\", \"Doberman Pinscher\", \"Chesapeake Bay Retriever\", \"Rottweiler\", \"Mixed Breed\", \"Border Collie\", \"Mixed Breed\", \"Beagle\", \"Golden Retriever\", \"Golden Retriever\", \"Bullmastiff\", \"Bernese Mountain Dog\", \"Cavalier King Charles Spaniel\", \"Rottweiler\", \"Flat-Coated Retriever\", \"Golden Retriever\", \"American Staffordshire Terrier\", \"Mixed Breed\", \"Bernese Mountain Dog\", \"Mixed Breed\", \"Mixed Breed\", \"Mixed Breed\", \"Golden Retriever\", \"Irish Setter\", \"Boxer\", \"Mixed Breed\", \"Beagle\", \"American Staffordshire Terrier\", \"Labrador Retriever\", \"Boxer\", \"Vizsla\", \"American Staffordshire Terrier\", \"Mixed Breed\", \"Irish Wolfhound\", \"Border Collie\", \"Golden Retriever\", \"Mastiff\", \"Rottweiler\", \"German Shepherd Dog\", \"Golden Retriever\", \"Golden Retriever\", \"Boxer\", \"Golden Retriever\", \"Basset Hound\", \"Mixed Breed\", \"Mixed Breed\", \"Golden Retriever\", \"\", \"Saint Bernard\", \"Bernese Mountain Dog\", \"Labrador Retriever\", \"Other\", \"Other\", \"Beagle\", \"Akita\", \"Labrador Retriever\", \"Mixed Breed\", \"Staffordshire Bull Terrier\", \"Vizsla\", \"Golden Retriever\", \"Mixed Breed\", \"Mixed Breed\", \"Golden Retriever\", \"Doberman Pinscher\", \"Mixed Breed\", \"Mixed Breed\", \"Mixed Breed\", \"Greyhound\", \"German Shepherd Dog\", \"Bernese Mountain Dog\", \"Labrador Retriever\", \"Black and Tan Coonhound\", \"Labrador Retriever\", \"Miniature Schnauzer\", \"Labrador Retriever\", \"Golden Retriever\", \"Golden Retriever\", \"Saint Bernard\", \"Labrador Retriever\", \"Golden Retriever\", \"Golden Retriever\", \"Golden Retriever\", \"Mixed Breed\", \"Golden Retriever\", \"Mixed Breed\", \"Golden Retriever\", \"Golden Retriever\", \"Boxer\", \"American Staffordshire Terrier\", \"Gordon Setter\", \"Bouvier des Flandres\", \"Greyhound\", \"Labrador Retriever\", \"German Shepherd Dog\", \"Rottweiler\", \"Mixed Breed\", \"Labrador Retriever\", \"Australian Shepherd\", \"Doberman Pinscher\", \"Giant Schnauzer\", \"Boxer\", \"Cocker Spaniel\", \"Weimaraner\", \"German Shorthaired Pointer\", \"West Highland White Terrier\", \"Rottweiler\", \"Golden Retriever\", \"Saint Bernard\", \"Mixed Breed\", \"Chinese Shar-Pei\", \"Doberman Pinscher\"]]}, \"header\": {\"values\": [\"case_id_\", \"demographic_patient_age_at_enrollment_\", \"demographic_sex_\", \"demographic_weight_\", \"demographic_breed_\"]}, \"type\": \"table\"}],\n",
       "                        {\"template\": {\"data\": {\"bar\": [{\"error_x\": {\"color\": \"#2a3f5f\"}, \"error_y\": {\"color\": \"#2a3f5f\"}, \"marker\": {\"line\": {\"color\": \"#E5ECF6\", \"width\": 0.5}}, \"type\": \"bar\"}], \"barpolar\": [{\"marker\": {\"line\": {\"color\": \"#E5ECF6\", \"width\": 0.5}}, \"type\": \"barpolar\"}], \"carpet\": [{\"aaxis\": {\"endlinecolor\": \"#2a3f5f\", \"gridcolor\": \"white\", \"linecolor\": \"white\", \"minorgridcolor\": \"white\", \"startlinecolor\": \"#2a3f5f\"}, \"baxis\": {\"endlinecolor\": \"#2a3f5f\", \"gridcolor\": \"white\", \"linecolor\": \"white\", \"minorgridcolor\": \"white\", \"startlinecolor\": \"#2a3f5f\"}, \"type\": \"carpet\"}], \"choropleth\": [{\"colorbar\": {\"outlinewidth\": 0, \"ticks\": \"\"}, \"type\": \"choropleth\"}], \"contour\": [{\"colorbar\": {\"outlinewidth\": 0, \"ticks\": \"\"}, \"colorscale\": [[0.0, \"#0d0887\"], [0.1111111111111111, \"#46039f\"], [0.2222222222222222, \"#7201a8\"], [0.3333333333333333, \"#9c179e\"], [0.4444444444444444, \"#bd3786\"], [0.5555555555555556, \"#d8576b\"], [0.6666666666666666, \"#ed7953\"], [0.7777777777777778, \"#fb9f3a\"], [0.8888888888888888, \"#fdca26\"], [1.0, \"#f0f921\"]], \"type\": \"contour\"}], \"contourcarpet\": [{\"colorbar\": {\"outlinewidth\": 0, \"ticks\": \"\"}, \"type\": \"contourcarpet\"}], \"heatmap\": [{\"colorbar\": {\"outlinewidth\": 0, \"ticks\": \"\"}, \"colorscale\": [[0.0, \"#0d0887\"], [0.1111111111111111, \"#46039f\"], [0.2222222222222222, \"#7201a8\"], [0.3333333333333333, \"#9c179e\"], [0.4444444444444444, \"#bd3786\"], [0.5555555555555556, \"#d8576b\"], [0.6666666666666666, \"#ed7953\"], [0.7777777777777778, \"#fb9f3a\"], [0.8888888888888888, \"#fdca26\"], [1.0, \"#f0f921\"]], \"type\": \"heatmap\"}], \"heatmapgl\": [{\"colorbar\": {\"outlinewidth\": 0, \"ticks\": \"\"}, \"colorscale\": [[0.0, \"#0d0887\"], [0.1111111111111111, \"#46039f\"], [0.2222222222222222, \"#7201a8\"], [0.3333333333333333, \"#9c179e\"], [0.4444444444444444, \"#bd3786\"], [0.5555555555555556, \"#d8576b\"], [0.6666666666666666, \"#ed7953\"], [0.7777777777777778, \"#fb9f3a\"], [0.8888888888888888, \"#fdca26\"], [1.0, \"#f0f921\"]], \"type\": \"heatmapgl\"}], \"histogram\": [{\"marker\": {\"colorbar\": {\"outlinewidth\": 0, \"ticks\": \"\"}}, \"type\": \"histogram\"}], \"histogram2d\": [{\"colorbar\": {\"outlinewidth\": 0, \"ticks\": \"\"}, \"colorscale\": [[0.0, \"#0d0887\"], [0.1111111111111111, \"#46039f\"], [0.2222222222222222, \"#7201a8\"], [0.3333333333333333, \"#9c179e\"], [0.4444444444444444, \"#bd3786\"], [0.5555555555555556, \"#d8576b\"], [0.6666666666666666, \"#ed7953\"], [0.7777777777777778, \"#fb9f3a\"], [0.8888888888888888, \"#fdca26\"], [1.0, \"#f0f921\"]], \"type\": \"histogram2d\"}], \"histogram2dcontour\": [{\"colorbar\": {\"outlinewidth\": 0, \"ticks\": \"\"}, \"colorscale\": [[0.0, \"#0d0887\"], [0.1111111111111111, \"#46039f\"], [0.2222222222222222, \"#7201a8\"], [0.3333333333333333, \"#9c179e\"], [0.4444444444444444, \"#bd3786\"], [0.5555555555555556, \"#d8576b\"], [0.6666666666666666, \"#ed7953\"], [0.7777777777777778, \"#fb9f3a\"], [0.8888888888888888, \"#fdca26\"], [1.0, \"#f0f921\"]], \"type\": \"histogram2dcontour\"}], \"mesh3d\": [{\"colorbar\": {\"outlinewidth\": 0, \"ticks\": \"\"}, \"type\": \"mesh3d\"}], \"parcoords\": [{\"line\": {\"colorbar\": {\"outlinewidth\": 0, \"ticks\": \"\"}}, \"type\": \"parcoords\"}], \"pie\": [{\"automargin\": true, \"type\": \"pie\"}], \"scatter\": [{\"marker\": {\"colorbar\": {\"outlinewidth\": 0, \"ticks\": \"\"}}, \"type\": \"scatter\"}], \"scatter3d\": [{\"line\": {\"colorbar\": {\"outlinewidth\": 0, \"ticks\": \"\"}}, \"marker\": {\"colorbar\": {\"outlinewidth\": 0, \"ticks\": \"\"}}, \"type\": \"scatter3d\"}], \"scattercarpet\": [{\"marker\": {\"colorbar\": {\"outlinewidth\": 0, \"ticks\": \"\"}}, \"type\": \"scattercarpet\"}], \"scattergeo\": [{\"marker\": {\"colorbar\": {\"outlinewidth\": 0, \"ticks\": \"\"}}, \"type\": \"scattergeo\"}], \"scattergl\": [{\"marker\": {\"colorbar\": {\"outlinewidth\": 0, \"ticks\": \"\"}}, \"type\": \"scattergl\"}], \"scattermapbox\": [{\"marker\": {\"colorbar\": {\"outlinewidth\": 0, \"ticks\": \"\"}}, \"type\": \"scattermapbox\"}], \"scatterpolar\": [{\"marker\": {\"colorbar\": {\"outlinewidth\": 0, \"ticks\": \"\"}}, \"type\": \"scatterpolar\"}], \"scatterpolargl\": [{\"marker\": {\"colorbar\": {\"outlinewidth\": 0, \"ticks\": \"\"}}, \"type\": \"scatterpolargl\"}], \"scatterternary\": [{\"marker\": {\"colorbar\": {\"outlinewidth\": 0, \"ticks\": \"\"}}, \"type\": \"scatterternary\"}], \"surface\": [{\"colorbar\": {\"outlinewidth\": 0, \"ticks\": \"\"}, \"colorscale\": [[0.0, \"#0d0887\"], [0.1111111111111111, \"#46039f\"], [0.2222222222222222, \"#7201a8\"], [0.3333333333333333, \"#9c179e\"], [0.4444444444444444, \"#bd3786\"], [0.5555555555555556, \"#d8576b\"], [0.6666666666666666, \"#ed7953\"], [0.7777777777777778, \"#fb9f3a\"], [0.8888888888888888, \"#fdca26\"], [1.0, \"#f0f921\"]], \"type\": \"surface\"}], \"table\": [{\"cells\": {\"fill\": {\"color\": \"#EBF0F8\"}, \"line\": {\"color\": \"white\"}}, \"header\": {\"fill\": {\"color\": \"#C8D4E3\"}, \"line\": {\"color\": \"white\"}}, \"type\": \"table\"}]}, \"layout\": {\"annotationdefaults\": {\"arrowcolor\": \"#2a3f5f\", \"arrowhead\": 0, \"arrowwidth\": 1}, \"coloraxis\": {\"colorbar\": {\"outlinewidth\": 0, \"ticks\": \"\"}}, \"colorscale\": {\"diverging\": [[0, \"#8e0152\"], [0.1, \"#c51b7d\"], [0.2, \"#de77ae\"], [0.3, \"#f1b6da\"], [0.4, \"#fde0ef\"], [0.5, \"#f7f7f7\"], [0.6, \"#e6f5d0\"], [0.7, \"#b8e186\"], [0.8, \"#7fbc41\"], [0.9, \"#4d9221\"], [1, \"#276419\"]], \"sequential\": [[0.0, \"#0d0887\"], [0.1111111111111111, \"#46039f\"], [0.2222222222222222, \"#7201a8\"], [0.3333333333333333, \"#9c179e\"], [0.4444444444444444, \"#bd3786\"], [0.5555555555555556, \"#d8576b\"], [0.6666666666666666, \"#ed7953\"], [0.7777777777777778, \"#fb9f3a\"], [0.8888888888888888, \"#fdca26\"], [1.0, \"#f0f921\"]], \"sequentialminus\": [[0.0, \"#0d0887\"], [0.1111111111111111, \"#46039f\"], [0.2222222222222222, \"#7201a8\"], [0.3333333333333333, \"#9c179e\"], [0.4444444444444444, \"#bd3786\"], [0.5555555555555556, \"#d8576b\"], [0.6666666666666666, \"#ed7953\"], [0.7777777777777778, \"#fb9f3a\"], [0.8888888888888888, \"#fdca26\"], [1.0, \"#f0f921\"]]}, \"colorway\": [\"#636efa\", \"#EF553B\", \"#00cc96\", \"#ab63fa\", \"#FFA15A\", \"#19d3f3\", \"#FF6692\", \"#B6E880\", \"#FF97FF\", \"#FECB52\"], \"font\": {\"color\": \"#2a3f5f\"}, \"geo\": {\"bgcolor\": \"white\", \"lakecolor\": \"white\", \"landcolor\": \"#E5ECF6\", \"showlakes\": true, \"showland\": true, \"subunitcolor\": \"white\"}, \"hoverlabel\": {\"align\": \"left\"}, \"hovermode\": \"closest\", \"mapbox\": {\"style\": \"light\"}, \"paper_bgcolor\": \"white\", \"plot_bgcolor\": \"#E5ECF6\", \"polar\": {\"angularaxis\": {\"gridcolor\": \"white\", \"linecolor\": \"white\", \"ticks\": \"\"}, \"bgcolor\": \"#E5ECF6\", \"radialaxis\": {\"gridcolor\": \"white\", \"linecolor\": \"white\", \"ticks\": \"\"}}, \"scene\": {\"xaxis\": {\"backgroundcolor\": \"#E5ECF6\", \"gridcolor\": \"white\", \"gridwidth\": 2, \"linecolor\": \"white\", \"showbackground\": true, \"ticks\": \"\", \"zerolinecolor\": \"white\"}, \"yaxis\": {\"backgroundcolor\": \"#E5ECF6\", \"gridcolor\": \"white\", \"gridwidth\": 2, \"linecolor\": \"white\", \"showbackground\": true, \"ticks\": \"\", \"zerolinecolor\": \"white\"}, \"zaxis\": {\"backgroundcolor\": \"#E5ECF6\", \"gridcolor\": \"white\", \"gridwidth\": 2, \"linecolor\": \"white\", \"showbackground\": true, \"ticks\": \"\", \"zerolinecolor\": \"white\"}}, \"shapedefaults\": {\"line\": {\"color\": \"#2a3f5f\"}}, \"ternary\": {\"aaxis\": {\"gridcolor\": \"white\", \"linecolor\": \"white\", \"ticks\": \"\"}, \"baxis\": {\"gridcolor\": \"white\", \"linecolor\": \"white\", \"ticks\": \"\"}, \"bgcolor\": \"#E5ECF6\", \"caxis\": {\"gridcolor\": \"white\", \"linecolor\": \"white\", \"ticks\": \"\"}}, \"title\": {\"x\": 0.05}, \"xaxis\": {\"automargin\": true, \"gridcolor\": \"white\", \"linecolor\": \"white\", \"ticks\": \"\", \"title\": {\"standoff\": 15}, \"zerolinecolor\": \"white\", \"zerolinewidth\": 2}, \"yaxis\": {\"automargin\": true, \"gridcolor\": \"white\", \"linecolor\": \"white\", \"ticks\": \"\", \"title\": {\"standoff\": 15}, \"zerolinecolor\": \"white\", \"zerolinewidth\": 2}}}},\n",
       "                        {\"responsive\": true}\n",
       "                    ).then(function(){\n",
       "                            \n",
       "var gd = document.getElementById('2d8e3580-df0c-4903-8fb8-f13bfdcd4230');\n",
       "var x = new MutationObserver(function (mutations, observer) {{\n",
       "        var display = window.getComputedStyle(gd).display;\n",
       "        if (!display || display === 'none') {{\n",
       "            console.log([gd, 'removed!']);\n",
       "            Plotly.purge(gd);\n",
       "            observer.disconnect();\n",
       "        }}\n",
       "}});\n",
       "\n",
       "// Listen for the removal of the full notebook cells\n",
       "var notebookContainer = gd.closest('#notebook-container');\n",
       "if (notebookContainer) {{\n",
       "    x.observe(notebookContainer, {childList: true});\n",
       "}}\n",
       "\n",
       "// Listen for the clearing of the current output cell\n",
       "var outputEl = gd.closest('.output');\n",
       "if (outputEl) {{\n",
       "    x.observe(outputEl, {childList: true});\n",
       "}}\n",
       "\n",
       "                        })\n",
       "                };\n",
       "                });\n",
       "            </script>\n",
       "        </div>"
      ]
     },
     "metadata": {},
     "output_type": "display_data"
    }
   ],
   "source": [
    "niceTable()"
   ]
  },
  {
   "cell_type": "code",
   "execution_count": null,
   "metadata": {},
   "outputs": [],
   "source": []
  }
 ],
 "metadata": {
  "kernelspec": {
   "display_name": "Python 3",
   "language": "python",
   "name": "python3"
  },
  "language_info": {
   "codemirror_mode": {
    "name": "ipython",
    "version": 3
   },
   "file_extension": ".py",
   "mimetype": "text/x-python",
   "name": "python",
   "nbconvert_exporter": "python",
   "pygments_lexer": "ipython3",
   "version": "3.7.3"
  }
 },
 "nbformat": 4,
 "nbformat_minor": 2
}
