{
 "cells": [
  {
   "cell_type": "code",
   "execution_count": 1,
   "metadata": {},
   "outputs": [
    {
     "name": "stdout",
     "output_type": "stream",
     "text": [
      "Requirement already satisfied: requests in /home/pihl/jupyter/jupyterenv/lib/python3.7/site-packages (2.22.0)\n",
      "Requirement already satisfied: idna<2.9,>=2.5 in /home/pihl/jupyter/jupyterenv/lib/python3.7/site-packages (from requests) (2.8)\n",
      "Requirement already satisfied: chardet<3.1.0,>=3.0.2 in /home/pihl/jupyter/jupyterenv/lib/python3.7/site-packages (from requests) (3.0.4)\n",
      "Requirement already satisfied: certifi>=2017.4.17 in /home/pihl/jupyter/jupyterenv/lib/python3.7/site-packages (from requests) (2019.11.28)\n",
      "Requirement already satisfied: urllib3!=1.25.0,!=1.25.1,<1.26,>=1.21.1 in /home/pihl/jupyter/jupyterenv/lib/python3.7/site-packages (from requests) (1.25.7)\n",
      "Requirement already satisfied: pprint in /home/pihl/jupyter/jupyterenv/lib/python3.7/site-packages (0.1)\n",
      "Requirement already satisfied: pandas in /home/pihl/jupyter/jupyterenv/lib/python3.7/site-packages (0.25.3)\n",
      "Requirement already satisfied: python-dateutil>=2.6.1 in /home/pihl/jupyter/jupyterenv/lib/python3.7/site-packages (from pandas) (2.8.0)\n",
      "Requirement already satisfied: numpy>=1.13.3 in /home/pihl/jupyter/jupyterenv/lib/python3.7/site-packages (from pandas) (1.17.4)\n",
      "Requirement already satisfied: pytz>=2017.2 in /home/pihl/jupyter/jupyterenv/lib/python3.7/site-packages (from pandas) (2019.3)\n",
      "Requirement already satisfied: six>=1.5 in /home/pihl/jupyter/jupyterenv/lib/python3.7/site-packages (from python-dateutil>=2.6.1->pandas) (1.12.0)\n",
      "Requirement already satisfied: plotly in /home/pihl/jupyter/jupyterenv/lib/python3.7/site-packages (4.4.1)\n",
      "Requirement already satisfied: six in /home/pihl/jupyter/jupyterenv/lib/python3.7/site-packages (from plotly) (1.12.0)\n",
      "Requirement already satisfied: retrying>=1.3.3 in /home/pihl/jupyter/jupyterenv/lib/python3.7/site-packages (from plotly) (1.3.3)\n"
     ]
    }
   ],
   "source": [
    "! pip install requests\n",
    "! pip install pprint\n",
    "! pip install pandas\n",
    "! pip install plotly"
   ]
  },
  {
   "cell_type": "code",
   "execution_count": 2,
   "metadata": {},
   "outputs": [],
   "source": [
    "import requests\n",
    "import icdcQueries as icdc #This is a file with various GraphQL queries\n",
    "import pprint\n",
    "import pandas as pd\n",
    "import plotly\n",
    "import plotly.express as px"
   ]
  },
  {
   "cell_type": "code",
   "execution_count": 12,
   "metadata": {},
   "outputs": [],
   "source": [
    "#General query interface\n",
    "def runQuery(endpoint, query, variables):\n",
    "    \n",
    "    tiers = { \"stage\" : \"https://caninecommons-stage.cancer.gov/v1/graphql/\",\n",
    "    \"qa\" : \"https://caninecommons-qa.cancer.gov/v1/graphql/\",\n",
    "    \"dev\" : \"https://caninecommons-dev.cancer.gov/v1/graphql/\",\n",
    "    \"prod\" : \"https://caninecommons.cancer.gov/v1/graphql/\"}\n",
    "    \n",
    "    request = requests.post(tiers[endpoint], json={'query': query, 'variables': variables})\n",
    "    if request.status_code == 200:\n",
    "        return request.json()\n",
    "    else:\n",
    "        raise Exception(\"Query failed code {}. {}\".format(request.status_code,query))"
   ]
  },
  {
   "cell_type": "code",
   "execution_count": 13,
   "metadata": {},
   "outputs": [],
   "source": [
    "#Flatten a JSON object into a table\n",
    "def flattenJSON(jsondata):\n",
    "    flatdata = {}\n",
    "\n",
    "    def flatten(x, name=''):\n",
    "        if type(x) is dict:\n",
    "            for a in x:\n",
    "                flatten(x[a], name + a + '_')\n",
    "        elif type(x) is list:\n",
    "            i = 0\n",
    "            for a in x:\n",
    "                flatten(a, name + str(i) + '_')\n",
    "                i +=1\n",
    "        else:\n",
    "            flatdata[name] = x\n",
    "\n",
    "    flatten(jsondata)\n",
    "    return flatdata"
   ]
  },
  {
   "cell_type": "code",
   "execution_count": 14,
   "metadata": {},
   "outputs": [],
   "source": [
    "def getDataframe(query, endpoint, variables):\n",
    "    #Provide a GraphQL query and get a pandas dataframe back.  Assumes a query based on case\n",
    "    \n",
    "    #Run the GraphQL\n",
    "    jsondata = runQuery(endpoint, query, variables)\n",
    "    \n",
    "    #Flatten the JSON and push it into a dataframe\n",
    "    finaldata = pd.DataFrame(flattenJSON(case) for case in jsondata['data']['case'])\n",
    "    \n",
    "    return finaldata"
   ]
  },
  {
   "cell_type": "code",
   "execution_count": 15,
   "metadata": {},
   "outputs": [],
   "source": [
    "def scatterPlot(dataframe, xaxis, yaxis):\n",
    "    figure = px.scatter(dataframe, x=xaxis, y=yaxis)\n",
    "    return figure"
   ]
  },
  {
   "cell_type": "code",
   "execution_count": 27,
   "metadata": {},
   "outputs": [],
   "source": [
    "def main(args,xaxis,yaxis):\n",
    "    #Query against the production system\n",
    "    endpoint = 'prod'\n",
    "    #We're not providing any variables\n",
    "    variables = None\n",
    "    #Load the queries file\n",
    "    icdc.init()\n",
    "    \n",
    "    #Get a dataframe based on the example query\n",
    "    dataframe = getDataframe(icdc.demo_query, endpoint, variables)\n",
    "    \n",
    "    #Print it out for a quick look\n",
    "    if args == 'print':\n",
    "        pprint.pprint(dataframe)\n",
    "    \n",
    "    #Graph it\n",
    "    if args =='graph':\n",
    "        #xaxis ='demographic_breed_'\n",
    "        #yaxis = 'diagnoses_0_primary_disease_site_'\n",
    "        figure = scatterPlot(dataframe, xaxis, yaxis)\n",
    "        figure.show()\n",
    "    "
   ]
  },
  {
   "cell_type": "code",
   "execution_count": 28,
   "metadata": {},
   "outputs": [
    {
     "name": "stdout",
     "output_type": "stream",
     "text": [
      "                 case_id_ cohort_cohort_description_ cohort_cohort_dose_  \\\n",
      "0            COTC007B0201     NSC 725776; 3mg/m2/day          3mg/m2/day   \n",
      "1            COTC007B0501     NSC 725776; 3mg/m2/day          3mg/m2/day   \n",
      "2            COTC007B0901     NSC 743400; 8mg/m2/day          8mg/m2/day   \n",
      "3            COTC007B0502     NSC 725776; 3mg/m2/day          3mg/m2/day   \n",
      "4            COTC007B0503     NSC 725776; 3mg/m2/day          3mg/m2/day   \n",
      "..                    ...                        ...                 ...   \n",
      "139  NCATS-COP01CCB070020        Pulmonary Neoplasms                       \n",
      "140  NCATS-COP01CCB070034        Pulmonary Neoplasms                       \n",
      "141  NCATS-COP01CCB070102                   Melanoma                       \n",
      "142  NCATS-COP01CCB080012                   Melanoma                       \n",
      "143  NCATS-COP01CCB080018                   Melanoma                       \n",
      "\n",
      "    diagnoses_0_stage_of_disease_ diagnoses_0_concurrent_disease_  \\\n",
      "0                             III                            None   \n",
      "1                            IIIA                            None   \n",
      "2                            IIIA                            None   \n",
      "3                            IIIA                            None   \n",
      "4                            IIIA                            None   \n",
      "..                            ...                             ...   \n",
      "139                          None                           False   \n",
      "140                          None                           False   \n",
      "141                          None                           False   \n",
      "142                          None                            True   \n",
      "143                          None                            True   \n",
      "\n",
      "                             diagnoses_0_disease_term_  \\\n",
      "0                                             Lymphoma   \n",
      "1                                              Stage 3   \n",
      "2                                             Lymphoma   \n",
      "3                                              Stage 3   \n",
      "4                                              Stage 3   \n",
      "..                                                 ...   \n",
      "139  Malignant neoplasm of the respiratory tract ce...   \n",
      "140  Malignant neoplasm of the respiratory tract ce...   \n",
      "141  Lip and oropharyngeal neoplasms malignant :: M...   \n",
      "142  Lip and oropharyngeal neoplasms malignant :: M...   \n",
      "143  Lip and oropharyngeal neoplasms malignant :: M...   \n",
      "\n",
      "                  diagnoses_0_concurrent_disease_type_  \\\n",
      "0                                                 None   \n",
      "1                                                 None   \n",
      "2                                                 None   \n",
      "3                                                 None   \n",
      "4                                                 None   \n",
      "..                                                 ...   \n",
      "139                                                      \n",
      "140                                                      \n",
      "141                                                      \n",
      "142                                osteoarthritis, hip   \n",
      "143  lick granuloma that is chronic on right hind l...   \n",
      "\n",
      "           diagnoses_0_primary_disease_site_ demographic_neutered_indicator_  \\\n",
      "0                                 LYMPH NODE                            None   \n",
      "1                                 LYMPH NODE                            None   \n",
      "2                                 LYMPH NODE                            None   \n",
      "3                                 LYMPH NODE                            None   \n",
      "4                                 LYMPH NODE                            None   \n",
      "..                                       ...                             ...   \n",
      "139                  Lung, Caudal Right Lobe                             Yes   \n",
      "140  Lung, Caudal Aspect Of Left Caudal Lobe                             Yes   \n",
      "141                                 Mandible                             Yes   \n",
      "142                                 Mandible                             Yes   \n",
      "143                                    Mouth                             Yes   \n",
      "\n",
      "     demographic_patient_age_at_enrollment_  ... samples_1_percentage_tumor_  \\\n",
      "0                                       8.0  ...                         NaN   \n",
      "1                                       4.2  ...                         NaN   \n",
      "2                                       NaN  ...                         NaN   \n",
      "3                                       8.0  ...                         NaN   \n",
      "4                                      11.5  ...                         NaN   \n",
      "..                                      ...  ...                         ...   \n",
      "139                                    13.0  ...                         NaN   \n",
      "140                                     9.0  ...                        48.2   \n",
      "141                                    12.0  ...                         NaN   \n",
      "142                                     9.0  ...                         NaN   \n",
      "143                                     9.0  ...                         NaN   \n",
      "\n",
      "    samples_1_percentage_stroma_ samples_2_necropsy_sample_  \\\n",
      "0                            NaN                        NaN   \n",
      "1                            NaN                        NaN   \n",
      "2                            NaN                        NaN   \n",
      "3                            NaN                        NaN   \n",
      "4                            NaN                        NaN   \n",
      "..                           ...                        ...   \n",
      "139                          NaN                        NaN   \n",
      "140                         51.8                        NaN   \n",
      "141                          NaN                        NaN   \n",
      "142                          NaN                      False   \n",
      "143                          NaN                        NaN   \n",
      "\n",
      "     samples_2_date_of_sample_collection_ samples_2_sample_id_  \\\n",
      "0                                     NaN                  NaN   \n",
      "1                                     NaN                  NaN   \n",
      "2                                     NaN                  NaN   \n",
      "3                                     NaN                  NaN   \n",
      "4                                     NaN                  NaN   \n",
      "..                                    ...                  ...   \n",
      "139                                   NaN                  NaN   \n",
      "140                                   NaN                  NaN   \n",
      "141                                   NaN                  NaN   \n",
      "142                            2009-03-06       CCB080012 0312   \n",
      "143                                   NaN                  NaN   \n",
      "\n",
      "     samples_2_general_sample_pathology_ samples_2_comment_  \\\n",
      "0                                    NaN                NaN   \n",
      "1                                    NaN                NaN   \n",
      "2                                    NaN                NaN   \n",
      "3                                    NaN                NaN   \n",
      "4                                    NaN                NaN   \n",
      "..                                   ...                ...   \n",
      "139                                  NaN                NaN   \n",
      "140                                  NaN                NaN   \n",
      "141                                  NaN                NaN   \n",
      "142                       not applicable                      \n",
      "143                                  NaN                NaN   \n",
      "\n",
      "     samples_2_sample_type_ samples_2_percentage_tumor_  \\\n",
      "0                       NaN                         NaN   \n",
      "1                       NaN                         NaN   \n",
      "2                       NaN                         NaN   \n",
      "3                       NaN                         NaN   \n",
      "4                       NaN                         NaN   \n",
      "..                      ...                         ...   \n",
      "139                     NaN                         NaN   \n",
      "140                     NaN                         NaN   \n",
      "141                     NaN                         NaN   \n",
      "142                   blood                         NaN   \n",
      "143                     NaN                         NaN   \n",
      "\n",
      "    samples_2_percentage_stroma_  \n",
      "0                            NaN  \n",
      "1                            NaN  \n",
      "2                            NaN  \n",
      "3                            NaN  \n",
      "4                            NaN  \n",
      "..                           ...  \n",
      "139                          NaN  \n",
      "140                          NaN  \n",
      "141                          NaN  \n",
      "142                          NaN  \n",
      "143                          NaN  \n",
      "\n",
      "[144 rows x 42 columns]\n"
     ]
    }
   ],
   "source": [
    "main('print', None, None)"
   ]
  },
  {
   "cell_type": "code",
   "execution_count": 30,
   "metadata": {
    "scrolled": true
   },
   "outputs": [
    {
     "data": {
      "application/vnd.plotly.v1+json": {
       "config": {
        "plotlyServerURL": "https://plot.ly"
       },
       "data": [
        {
         "hoverlabel": {
          "namelength": 0
         },
         "hovertemplate": "diagnoses_0_primary_disease_site_=%{x}<br>demographic_sex_=%{y}",
         "legendgroup": "",
         "marker": {
          "color": "#636efa",
          "symbol": "circle"
         },
         "mode": "markers",
         "name": "",
         "showlegend": false,
         "type": "scatter",
         "x": [
          "LYMPH NODE",
          "LYMPH NODE",
          "LYMPH NODE",
          "LYMPH NODE",
          "LYMPH NODE",
          "LYMPH NODE",
          "LYMPH NODE",
          "LYMPH NODE",
          "LYMPH NODE",
          "LYMPH NODE",
          "LYMPH NODE",
          "LYMPH NODE",
          "LYMPH NODE",
          "LYMPH NODE",
          "LYMPH NODE",
          "LYMPH NODE",
          "LYMPH NODE",
          "LYMPH NODE",
          "LYMPH NODE",
          "LYMPH NODE",
          "LYMPH NODE",
          "LYMPH NODE",
          "LYMPH NODE",
          "LYMPH NODE",
          "LYMPH NODE",
          "LYMPH NODE",
          "LYMPH NODE",
          "LYMPH NODE",
          "LYMPH NODE",
          "LYMPH NODE",
          "LYMPH NODE",
          "LYMPH NODE",
          "LYMPH NODE",
          "LYMPH NODE",
          "LYMPH NODE",
          "LYMPH NODE",
          "LYMPH NODE",
          "LYMPH NODE",
          "LYMPH NODE",
          "LYMPH NODE",
          "LYMPH NODE",
          "LYMPH NODE",
          "LYMPH NODE",
          "LYMPH NODE",
          "LYMPH NODE",
          "LYMPH NODE",
          "LYMPH NODE",
          "LYMPH NODE",
          "LYMPH NODE",
          "LYMPH NODE",
          "LYMPH NODE",
          "LYMPH NODE",
          "LYMPH NODE",
          "LYMPH NODE",
          "LYMPH NODE",
          "LYMPH NODE",
          "LYMPH NODE",
          "LYMPH NODE",
          "LYMPH NODE",
          "LYMPH NODE",
          "LYMPH NODE",
          "LYMPH NODE",
          "LYMPH NODE",
          "LYMPH NODE",
          "LYMPH NODE",
          "LYMPH NODE",
          "LYMPH NODE",
          "LYMPH NODE",
          "LYMPH NODE",
          "LYMPH NODE",
          "LYMPH NODE",
          "LYMPH NODE",
          "LYMPH NODE",
          "LYMPH NODE",
          "LYMPH NODE",
          "LYMPH NODE",
          "LYMPH NODE",
          "LYMPH NODE",
          "LYMPH NODE",
          "LYMPH NODE",
          "LYMPH NODE",
          "LYMPH NODE",
          "LYMPH NODE",
          "LYMPH NODE",
          "Lymph Node, Popliteal",
          "Lymph Node, Popliteal",
          "Lymph Node, Popliteal",
          "Humerus",
          "Femur",
          "Lymph Node, Popliteal",
          "Lymph Node, Popliteal",
          "Lymph Node, Popliteal",
          "Lymph Node, Popliteal",
          "Lymph Node, Popliteal",
          "Lymph Node, Popliteal",
          "Lymph Node, Popliteal",
          "Lung Multiple Sites",
          "Lymph Node, Popliteal",
          "Mandible",
          "Tibia",
          "Femur",
          "Tibia",
          "Lymph Node",
          "Lymph Node, Popliteal",
          "Lymph Node",
          "Lymph Node",
          "Mandible",
          "Lymph Node, Popliteal",
          "Lymph Node, Popliteal",
          "Lymph Node, Popliteal",
          "Humerus",
          "Radius",
          "Humerus",
          "Humerus",
          "Lymph Node",
          "Mouth",
          "Mouth",
          "Lung, Caudal Right Lobe",
          "Lymph Node",
          "Lymph Node, Popliteal",
          "Lymph Node",
          "Lung, Cranial Left Lobe",
          "Lung, Caudal Aspect Of Left Caudal Lobe",
          "Lymph Node, Popliteal",
          "Humerus",
          "Mouth",
          "Mouth",
          "Mouth",
          "Lung, Caudal Aspect Of Left Caudal Lobe",
          "Lung, Caudal Aspect Of Left Caudal Lobe",
          "Lung, Cranial Left Lobe",
          "Lung, Caudal Right Lobe",
          "Mouth",
          "Lymph Node",
          "Mouth",
          "Lung, Cranial Left Lobe",
          "Humerus",
          "Lung, Cranial Left Lobe",
          "Radius",
          "Lung, Caudal Right Lobe",
          "Lung, Caudal Aspect Of Left Caudal Lobe",
          "Mandible",
          "Mandible",
          "Mouth"
         ],
         "xaxis": "x",
         "y": [
          "Spayed female",
          "Castrated male",
          "Spayed female",
          "Male Phenotype",
          "Spayed female",
          "Castrated male",
          "Castrated male",
          "Castrated male",
          "Castrated male",
          "Castrated male",
          "Castrated male",
          "Spayed female",
          "Castrated male",
          "Spayed female",
          "Spayed female",
          "Spayed female",
          "Female Phenotype",
          "Castrated male",
          "Spayed female",
          "Castrated male",
          "Male Phenotype",
          "Castrated male",
          "Castrated male",
          "Castrated male",
          "Spayed female",
          "Castrated male",
          "Castrated male",
          "Castrated male",
          "Castrated male",
          "Spayed female",
          "Spayed female",
          "Spayed female",
          "Male Phenotype",
          "Castrated male",
          "Male Phenotype",
          "Spayed female",
          "Castrated male",
          "Castrated male",
          "Castrated male",
          "Spayed female",
          "Castrated male",
          "Spayed female",
          "Spayed female",
          "Castrated male",
          "Male Phenotype",
          "Castrated male",
          "Spayed female",
          "Spayed female",
          "Castrated male",
          "Castrated male",
          "Spayed female",
          "Female Phenotype",
          "Spayed female",
          "Castrated male",
          "Castrated male",
          "Castrated male",
          "Spayed female",
          "Spayed female",
          "Spayed female",
          "Castrated male",
          "Spayed female",
          "Spayed female",
          "Castrated male",
          "Castrated male",
          "Castrated male",
          "Female Phenotype",
          "Male Phenotype",
          "Castrated male",
          "Castrated male",
          "Spayed female",
          "Female Phenotype",
          "Female Phenotype",
          "Castrated male",
          "Castrated male",
          "Castrated male",
          "Spayed female",
          "Male Phenotype",
          "Castrated male",
          "Castrated male",
          "Castrated male",
          "Spayed female",
          "Castrated male",
          "Castrated male",
          "Male Phenotype",
          "Male",
          "Male",
          "Female",
          "Female",
          "Female",
          "Male",
          "Male",
          "Female",
          "Male",
          "Male",
          "Female",
          "Female",
          "Female",
          "Female",
          "Female",
          "Male",
          "Male",
          "Female",
          "Male",
          "Female",
          "Female",
          "Male",
          "Female",
          "Female",
          "Male",
          "Male",
          "Female",
          "Female",
          "Male",
          "Male",
          "Male",
          "Female",
          "Male",
          "Female",
          "Male",
          "Male",
          "Male",
          "Female",
          "Female",
          "Female",
          "Male",
          "Male",
          "Male",
          "Female",
          "Male",
          "Female",
          "Female",
          "Male",
          "Female",
          "Female",
          "Male",
          "Female",
          "Female",
          "Male",
          "Male",
          "Female",
          "Female",
          "Female",
          "Female",
          "Female"
         ],
         "yaxis": "y"
        }
       ],
       "layout": {
        "legend": {
         "tracegroupgap": 0
        },
        "margin": {
         "t": 60
        },
        "template": {
         "data": {
          "bar": [
           {
            "error_x": {
             "color": "#2a3f5f"
            },
            "error_y": {
             "color": "#2a3f5f"
            },
            "marker": {
             "line": {
              "color": "#E5ECF6",
              "width": 0.5
             }
            },
            "type": "bar"
           }
          ],
          "barpolar": [
           {
            "marker": {
             "line": {
              "color": "#E5ECF6",
              "width": 0.5
             }
            },
            "type": "barpolar"
           }
          ],
          "carpet": [
           {
            "aaxis": {
             "endlinecolor": "#2a3f5f",
             "gridcolor": "white",
             "linecolor": "white",
             "minorgridcolor": "white",
             "startlinecolor": "#2a3f5f"
            },
            "baxis": {
             "endlinecolor": "#2a3f5f",
             "gridcolor": "white",
             "linecolor": "white",
             "minorgridcolor": "white",
             "startlinecolor": "#2a3f5f"
            },
            "type": "carpet"
           }
          ],
          "choropleth": [
           {
            "colorbar": {
             "outlinewidth": 0,
             "ticks": ""
            },
            "type": "choropleth"
           }
          ],
          "contour": [
           {
            "colorbar": {
             "outlinewidth": 0,
             "ticks": ""
            },
            "colorscale": [
             [
              0,
              "#0d0887"
             ],
             [
              0.1111111111111111,
              "#46039f"
             ],
             [
              0.2222222222222222,
              "#7201a8"
             ],
             [
              0.3333333333333333,
              "#9c179e"
             ],
             [
              0.4444444444444444,
              "#bd3786"
             ],
             [
              0.5555555555555556,
              "#d8576b"
             ],
             [
              0.6666666666666666,
              "#ed7953"
             ],
             [
              0.7777777777777778,
              "#fb9f3a"
             ],
             [
              0.8888888888888888,
              "#fdca26"
             ],
             [
              1,
              "#f0f921"
             ]
            ],
            "type": "contour"
           }
          ],
          "contourcarpet": [
           {
            "colorbar": {
             "outlinewidth": 0,
             "ticks": ""
            },
            "type": "contourcarpet"
           }
          ],
          "heatmap": [
           {
            "colorbar": {
             "outlinewidth": 0,
             "ticks": ""
            },
            "colorscale": [
             [
              0,
              "#0d0887"
             ],
             [
              0.1111111111111111,
              "#46039f"
             ],
             [
              0.2222222222222222,
              "#7201a8"
             ],
             [
              0.3333333333333333,
              "#9c179e"
             ],
             [
              0.4444444444444444,
              "#bd3786"
             ],
             [
              0.5555555555555556,
              "#d8576b"
             ],
             [
              0.6666666666666666,
              "#ed7953"
             ],
             [
              0.7777777777777778,
              "#fb9f3a"
             ],
             [
              0.8888888888888888,
              "#fdca26"
             ],
             [
              1,
              "#f0f921"
             ]
            ],
            "type": "heatmap"
           }
          ],
          "heatmapgl": [
           {
            "colorbar": {
             "outlinewidth": 0,
             "ticks": ""
            },
            "colorscale": [
             [
              0,
              "#0d0887"
             ],
             [
              0.1111111111111111,
              "#46039f"
             ],
             [
              0.2222222222222222,
              "#7201a8"
             ],
             [
              0.3333333333333333,
              "#9c179e"
             ],
             [
              0.4444444444444444,
              "#bd3786"
             ],
             [
              0.5555555555555556,
              "#d8576b"
             ],
             [
              0.6666666666666666,
              "#ed7953"
             ],
             [
              0.7777777777777778,
              "#fb9f3a"
             ],
             [
              0.8888888888888888,
              "#fdca26"
             ],
             [
              1,
              "#f0f921"
             ]
            ],
            "type": "heatmapgl"
           }
          ],
          "histogram": [
           {
            "marker": {
             "colorbar": {
              "outlinewidth": 0,
              "ticks": ""
             }
            },
            "type": "histogram"
           }
          ],
          "histogram2d": [
           {
            "colorbar": {
             "outlinewidth": 0,
             "ticks": ""
            },
            "colorscale": [
             [
              0,
              "#0d0887"
             ],
             [
              0.1111111111111111,
              "#46039f"
             ],
             [
              0.2222222222222222,
              "#7201a8"
             ],
             [
              0.3333333333333333,
              "#9c179e"
             ],
             [
              0.4444444444444444,
              "#bd3786"
             ],
             [
              0.5555555555555556,
              "#d8576b"
             ],
             [
              0.6666666666666666,
              "#ed7953"
             ],
             [
              0.7777777777777778,
              "#fb9f3a"
             ],
             [
              0.8888888888888888,
              "#fdca26"
             ],
             [
              1,
              "#f0f921"
             ]
            ],
            "type": "histogram2d"
           }
          ],
          "histogram2dcontour": [
           {
            "colorbar": {
             "outlinewidth": 0,
             "ticks": ""
            },
            "colorscale": [
             [
              0,
              "#0d0887"
             ],
             [
              0.1111111111111111,
              "#46039f"
             ],
             [
              0.2222222222222222,
              "#7201a8"
             ],
             [
              0.3333333333333333,
              "#9c179e"
             ],
             [
              0.4444444444444444,
              "#bd3786"
             ],
             [
              0.5555555555555556,
              "#d8576b"
             ],
             [
              0.6666666666666666,
              "#ed7953"
             ],
             [
              0.7777777777777778,
              "#fb9f3a"
             ],
             [
              0.8888888888888888,
              "#fdca26"
             ],
             [
              1,
              "#f0f921"
             ]
            ],
            "type": "histogram2dcontour"
           }
          ],
          "mesh3d": [
           {
            "colorbar": {
             "outlinewidth": 0,
             "ticks": ""
            },
            "type": "mesh3d"
           }
          ],
          "parcoords": [
           {
            "line": {
             "colorbar": {
              "outlinewidth": 0,
              "ticks": ""
             }
            },
            "type": "parcoords"
           }
          ],
          "pie": [
           {
            "automargin": true,
            "type": "pie"
           }
          ],
          "scatter": [
           {
            "marker": {
             "colorbar": {
              "outlinewidth": 0,
              "ticks": ""
             }
            },
            "type": "scatter"
           }
          ],
          "scatter3d": [
           {
            "line": {
             "colorbar": {
              "outlinewidth": 0,
              "ticks": ""
             }
            },
            "marker": {
             "colorbar": {
              "outlinewidth": 0,
              "ticks": ""
             }
            },
            "type": "scatter3d"
           }
          ],
          "scattercarpet": [
           {
            "marker": {
             "colorbar": {
              "outlinewidth": 0,
              "ticks": ""
             }
            },
            "type": "scattercarpet"
           }
          ],
          "scattergeo": [
           {
            "marker": {
             "colorbar": {
              "outlinewidth": 0,
              "ticks": ""
             }
            },
            "type": "scattergeo"
           }
          ],
          "scattergl": [
           {
            "marker": {
             "colorbar": {
              "outlinewidth": 0,
              "ticks": ""
             }
            },
            "type": "scattergl"
           }
          ],
          "scattermapbox": [
           {
            "marker": {
             "colorbar": {
              "outlinewidth": 0,
              "ticks": ""
             }
            },
            "type": "scattermapbox"
           }
          ],
          "scatterpolar": [
           {
            "marker": {
             "colorbar": {
              "outlinewidth": 0,
              "ticks": ""
             }
            },
            "type": "scatterpolar"
           }
          ],
          "scatterpolargl": [
           {
            "marker": {
             "colorbar": {
              "outlinewidth": 0,
              "ticks": ""
             }
            },
            "type": "scatterpolargl"
           }
          ],
          "scatterternary": [
           {
            "marker": {
             "colorbar": {
              "outlinewidth": 0,
              "ticks": ""
             }
            },
            "type": "scatterternary"
           }
          ],
          "surface": [
           {
            "colorbar": {
             "outlinewidth": 0,
             "ticks": ""
            },
            "colorscale": [
             [
              0,
              "#0d0887"
             ],
             [
              0.1111111111111111,
              "#46039f"
             ],
             [
              0.2222222222222222,
              "#7201a8"
             ],
             [
              0.3333333333333333,
              "#9c179e"
             ],
             [
              0.4444444444444444,
              "#bd3786"
             ],
             [
              0.5555555555555556,
              "#d8576b"
             ],
             [
              0.6666666666666666,
              "#ed7953"
             ],
             [
              0.7777777777777778,
              "#fb9f3a"
             ],
             [
              0.8888888888888888,
              "#fdca26"
             ],
             [
              1,
              "#f0f921"
             ]
            ],
            "type": "surface"
           }
          ],
          "table": [
           {
            "cells": {
             "fill": {
              "color": "#EBF0F8"
             },
             "line": {
              "color": "white"
             }
            },
            "header": {
             "fill": {
              "color": "#C8D4E3"
             },
             "line": {
              "color": "white"
             }
            },
            "type": "table"
           }
          ]
         },
         "layout": {
          "annotationdefaults": {
           "arrowcolor": "#2a3f5f",
           "arrowhead": 0,
           "arrowwidth": 1
          },
          "coloraxis": {
           "colorbar": {
            "outlinewidth": 0,
            "ticks": ""
           }
          },
          "colorscale": {
           "diverging": [
            [
             0,
             "#8e0152"
            ],
            [
             0.1,
             "#c51b7d"
            ],
            [
             0.2,
             "#de77ae"
            ],
            [
             0.3,
             "#f1b6da"
            ],
            [
             0.4,
             "#fde0ef"
            ],
            [
             0.5,
             "#f7f7f7"
            ],
            [
             0.6,
             "#e6f5d0"
            ],
            [
             0.7,
             "#b8e186"
            ],
            [
             0.8,
             "#7fbc41"
            ],
            [
             0.9,
             "#4d9221"
            ],
            [
             1,
             "#276419"
            ]
           ],
           "sequential": [
            [
             0,
             "#0d0887"
            ],
            [
             0.1111111111111111,
             "#46039f"
            ],
            [
             0.2222222222222222,
             "#7201a8"
            ],
            [
             0.3333333333333333,
             "#9c179e"
            ],
            [
             0.4444444444444444,
             "#bd3786"
            ],
            [
             0.5555555555555556,
             "#d8576b"
            ],
            [
             0.6666666666666666,
             "#ed7953"
            ],
            [
             0.7777777777777778,
             "#fb9f3a"
            ],
            [
             0.8888888888888888,
             "#fdca26"
            ],
            [
             1,
             "#f0f921"
            ]
           ],
           "sequentialminus": [
            [
             0,
             "#0d0887"
            ],
            [
             0.1111111111111111,
             "#46039f"
            ],
            [
             0.2222222222222222,
             "#7201a8"
            ],
            [
             0.3333333333333333,
             "#9c179e"
            ],
            [
             0.4444444444444444,
             "#bd3786"
            ],
            [
             0.5555555555555556,
             "#d8576b"
            ],
            [
             0.6666666666666666,
             "#ed7953"
            ],
            [
             0.7777777777777778,
             "#fb9f3a"
            ],
            [
             0.8888888888888888,
             "#fdca26"
            ],
            [
             1,
             "#f0f921"
            ]
           ]
          },
          "colorway": [
           "#636efa",
           "#EF553B",
           "#00cc96",
           "#ab63fa",
           "#FFA15A",
           "#19d3f3",
           "#FF6692",
           "#B6E880",
           "#FF97FF",
           "#FECB52"
          ],
          "font": {
           "color": "#2a3f5f"
          },
          "geo": {
           "bgcolor": "white",
           "lakecolor": "white",
           "landcolor": "#E5ECF6",
           "showlakes": true,
           "showland": true,
           "subunitcolor": "white"
          },
          "hoverlabel": {
           "align": "left"
          },
          "hovermode": "closest",
          "mapbox": {
           "style": "light"
          },
          "paper_bgcolor": "white",
          "plot_bgcolor": "#E5ECF6",
          "polar": {
           "angularaxis": {
            "gridcolor": "white",
            "linecolor": "white",
            "ticks": ""
           },
           "bgcolor": "#E5ECF6",
           "radialaxis": {
            "gridcolor": "white",
            "linecolor": "white",
            "ticks": ""
           }
          },
          "scene": {
           "xaxis": {
            "backgroundcolor": "#E5ECF6",
            "gridcolor": "white",
            "gridwidth": 2,
            "linecolor": "white",
            "showbackground": true,
            "ticks": "",
            "zerolinecolor": "white"
           },
           "yaxis": {
            "backgroundcolor": "#E5ECF6",
            "gridcolor": "white",
            "gridwidth": 2,
            "linecolor": "white",
            "showbackground": true,
            "ticks": "",
            "zerolinecolor": "white"
           },
           "zaxis": {
            "backgroundcolor": "#E5ECF6",
            "gridcolor": "white",
            "gridwidth": 2,
            "linecolor": "white",
            "showbackground": true,
            "ticks": "",
            "zerolinecolor": "white"
           }
          },
          "shapedefaults": {
           "line": {
            "color": "#2a3f5f"
           }
          },
          "ternary": {
           "aaxis": {
            "gridcolor": "white",
            "linecolor": "white",
            "ticks": ""
           },
           "baxis": {
            "gridcolor": "white",
            "linecolor": "white",
            "ticks": ""
           },
           "bgcolor": "#E5ECF6",
           "caxis": {
            "gridcolor": "white",
            "linecolor": "white",
            "ticks": ""
           }
          },
          "title": {
           "x": 0.05
          },
          "xaxis": {
           "automargin": true,
           "gridcolor": "white",
           "linecolor": "white",
           "ticks": "",
           "title": {
            "standoff": 15
           },
           "zerolinecolor": "white",
           "zerolinewidth": 2
          },
          "yaxis": {
           "automargin": true,
           "gridcolor": "white",
           "linecolor": "white",
           "ticks": "",
           "title": {
            "standoff": 15
           },
           "zerolinecolor": "white",
           "zerolinewidth": 2
          }
         }
        },
        "xaxis": {
         "anchor": "y",
         "domain": [
          0,
          1
         ],
         "title": {
          "text": "diagnoses_0_primary_disease_site_"
         }
        },
        "yaxis": {
         "anchor": "x",
         "domain": [
          0,
          1
         ],
         "title": {
          "text": "demographic_sex_"
         }
        }
       }
      },
      "text/html": [
       "<div>\n",
       "        \n",
       "        \n",
       "            <div id=\"e9e8773b-f369-4920-86fb-05f3b4444d5e\" class=\"plotly-graph-div\" style=\"height:525px; width:100%;\"></div>\n",
       "            <script type=\"text/javascript\">\n",
       "                require([\"plotly\"], function(Plotly) {\n",
       "                    window.PLOTLYENV=window.PLOTLYENV || {};\n",
       "                    \n",
       "                if (document.getElementById(\"e9e8773b-f369-4920-86fb-05f3b4444d5e\")) {\n",
       "                    Plotly.newPlot(\n",
       "                        'e9e8773b-f369-4920-86fb-05f3b4444d5e',\n",
       "                        [{\"hoverlabel\": {\"namelength\": 0}, \"hovertemplate\": \"diagnoses_0_primary_disease_site_=%{x}<br>demographic_sex_=%{y}\", \"legendgroup\": \"\", \"marker\": {\"color\": \"#636efa\", \"symbol\": \"circle\"}, \"mode\": \"markers\", \"name\": \"\", \"showlegend\": false, \"type\": \"scatter\", \"x\": [\"LYMPH NODE\", \"LYMPH NODE\", \"LYMPH NODE\", \"LYMPH NODE\", \"LYMPH NODE\", \"LYMPH NODE\", \"LYMPH NODE\", \"LYMPH NODE\", \"LYMPH NODE\", \"LYMPH NODE\", \"LYMPH NODE\", \"LYMPH NODE\", \"LYMPH NODE\", \"LYMPH NODE\", \"LYMPH NODE\", \"LYMPH NODE\", \"LYMPH NODE\", \"LYMPH NODE\", \"LYMPH NODE\", \"LYMPH NODE\", \"LYMPH NODE\", \"LYMPH NODE\", \"LYMPH NODE\", \"LYMPH NODE\", \"LYMPH NODE\", \"LYMPH NODE\", \"LYMPH NODE\", \"LYMPH NODE\", \"LYMPH NODE\", \"LYMPH NODE\", \"LYMPH NODE\", \"LYMPH NODE\", \"LYMPH NODE\", \"LYMPH NODE\", \"LYMPH NODE\", \"LYMPH NODE\", \"LYMPH NODE\", \"LYMPH NODE\", \"LYMPH NODE\", \"LYMPH NODE\", \"LYMPH NODE\", \"LYMPH NODE\", \"LYMPH NODE\", \"LYMPH NODE\", \"LYMPH NODE\", \"LYMPH NODE\", \"LYMPH NODE\", \"LYMPH NODE\", \"LYMPH NODE\", \"LYMPH NODE\", \"LYMPH NODE\", \"LYMPH NODE\", \"LYMPH NODE\", \"LYMPH NODE\", \"LYMPH NODE\", \"LYMPH NODE\", \"LYMPH NODE\", \"LYMPH NODE\", \"LYMPH NODE\", \"LYMPH NODE\", \"LYMPH NODE\", \"LYMPH NODE\", \"LYMPH NODE\", \"LYMPH NODE\", \"LYMPH NODE\", \"LYMPH NODE\", \"LYMPH NODE\", \"LYMPH NODE\", \"LYMPH NODE\", \"LYMPH NODE\", \"LYMPH NODE\", \"LYMPH NODE\", \"LYMPH NODE\", \"LYMPH NODE\", \"LYMPH NODE\", \"LYMPH NODE\", \"LYMPH NODE\", \"LYMPH NODE\", \"LYMPH NODE\", \"LYMPH NODE\", \"LYMPH NODE\", \"LYMPH NODE\", \"LYMPH NODE\", \"LYMPH NODE\", \"Lymph Node, Popliteal\", \"Lymph Node, Popliteal\", \"Lymph Node, Popliteal\", \"Humerus\", \"Femur\", \"Lymph Node, Popliteal\", \"Lymph Node, Popliteal\", \"Lymph Node, Popliteal\", \"Lymph Node, Popliteal\", \"Lymph Node, Popliteal\", \"Lymph Node, Popliteal\", \"Lymph Node, Popliteal\", \"Lung Multiple Sites\", \"Lymph Node, Popliteal\", \"Mandible\", \"Tibia\", \"Femur\", \"Tibia\", \"Lymph Node\", \"Lymph Node, Popliteal\", \"Lymph Node\", \"Lymph Node\", \"Mandible\", \"Lymph Node, Popliteal\", \"Lymph Node, Popliteal\", \"Lymph Node, Popliteal\", \"Humerus\", \"Radius\", \"Humerus\", \"Humerus\", \"Lymph Node\", \"Mouth\", \"Mouth\", \"Lung, Caudal Right Lobe\", \"Lymph Node\", \"Lymph Node, Popliteal\", \"Lymph Node\", \"Lung, Cranial Left Lobe\", \"Lung, Caudal Aspect Of Left Caudal Lobe\", \"Lymph Node, Popliteal\", \"Humerus\", \"Mouth\", \"Mouth\", \"Mouth\", \"Lung, Caudal Aspect Of Left Caudal Lobe\", \"Lung, Caudal Aspect Of Left Caudal Lobe\", \"Lung, Cranial Left Lobe\", \"Lung, Caudal Right Lobe\", \"Mouth\", \"Lymph Node\", \"Mouth\", \"Lung, Cranial Left Lobe\", \"Humerus\", \"Lung, Cranial Left Lobe\", \"Radius\", \"Lung, Caudal Right Lobe\", \"Lung, Caudal Aspect Of Left Caudal Lobe\", \"Mandible\", \"Mandible\", \"Mouth\"], \"xaxis\": \"x\", \"y\": [\"Spayed female\", \"Castrated male\", \"Spayed female\", \"Male Phenotype\", \"Spayed female\", \"Castrated male\", \"Castrated male\", \"Castrated male\", \"Castrated male\", \"Castrated male\", \"Castrated male\", \"Spayed female\", \"Castrated male\", \"Spayed female\", \"Spayed female\", \"Spayed female\", \"Female Phenotype\", \"Castrated male\", \"Spayed female\", \"Castrated male\", \"Male Phenotype\", \"Castrated male\", \"Castrated male\", \"Castrated male\", \"Spayed female\", \"Castrated male\", \"Castrated male\", \"Castrated male\", \"Castrated male\", \"Spayed female\", \"Spayed female\", \"Spayed female\", \"Male Phenotype\", \"Castrated male\", \"Male Phenotype\", \"Spayed female\", \"Castrated male\", \"Castrated male\", \"Castrated male\", \"Spayed female\", \"Castrated male\", \"Spayed female\", \"Spayed female\", \"Castrated male\", \"Male Phenotype\", \"Castrated male\", \"Spayed female\", \"Spayed female\", \"Castrated male\", \"Castrated male\", \"Spayed female\", \"Female Phenotype\", \"Spayed female\", \"Castrated male\", \"Castrated male\", \"Castrated male\", \"Spayed female\", \"Spayed female\", \"Spayed female\", \"Castrated male\", \"Spayed female\", \"Spayed female\", \"Castrated male\", \"Castrated male\", \"Castrated male\", \"Female Phenotype\", \"Male Phenotype\", \"Castrated male\", \"Castrated male\", \"Spayed female\", \"Female Phenotype\", \"Female Phenotype\", \"Castrated male\", \"Castrated male\", \"Castrated male\", \"Spayed female\", \"Male Phenotype\", \"Castrated male\", \"Castrated male\", \"Castrated male\", \"Spayed female\", \"Castrated male\", \"Castrated male\", \"Male Phenotype\", \"Male\", \"Male\", \"Female\", \"Female\", \"Female\", \"Male\", \"Male\", \"Female\", \"Male\", \"Male\", \"Female\", \"Female\", \"Female\", \"Female\", \"Female\", \"Male\", \"Male\", \"Female\", \"Male\", \"Female\", \"Female\", \"Male\", \"Female\", \"Female\", \"Male\", \"Male\", \"Female\", \"Female\", \"Male\", \"Male\", \"Male\", \"Female\", \"Male\", \"Female\", \"Male\", \"Male\", \"Male\", \"Female\", \"Female\", \"Female\", \"Male\", \"Male\", \"Male\", \"Female\", \"Male\", \"Female\", \"Female\", \"Male\", \"Female\", \"Female\", \"Male\", \"Female\", \"Female\", \"Male\", \"Male\", \"Female\", \"Female\", \"Female\", \"Female\", \"Female\"], \"yaxis\": \"y\"}],\n",
       "                        {\"legend\": {\"tracegroupgap\": 0}, \"margin\": {\"t\": 60}, \"template\": {\"data\": {\"bar\": [{\"error_x\": {\"color\": \"#2a3f5f\"}, \"error_y\": {\"color\": \"#2a3f5f\"}, \"marker\": {\"line\": {\"color\": \"#E5ECF6\", \"width\": 0.5}}, \"type\": \"bar\"}], \"barpolar\": [{\"marker\": {\"line\": {\"color\": \"#E5ECF6\", \"width\": 0.5}}, \"type\": \"barpolar\"}], \"carpet\": [{\"aaxis\": {\"endlinecolor\": \"#2a3f5f\", \"gridcolor\": \"white\", \"linecolor\": \"white\", \"minorgridcolor\": \"white\", \"startlinecolor\": \"#2a3f5f\"}, \"baxis\": {\"endlinecolor\": \"#2a3f5f\", \"gridcolor\": \"white\", \"linecolor\": \"white\", \"minorgridcolor\": \"white\", \"startlinecolor\": \"#2a3f5f\"}, \"type\": \"carpet\"}], \"choropleth\": [{\"colorbar\": {\"outlinewidth\": 0, \"ticks\": \"\"}, \"type\": \"choropleth\"}], \"contour\": [{\"colorbar\": {\"outlinewidth\": 0, \"ticks\": \"\"}, \"colorscale\": [[0.0, \"#0d0887\"], [0.1111111111111111, \"#46039f\"], [0.2222222222222222, \"#7201a8\"], [0.3333333333333333, \"#9c179e\"], [0.4444444444444444, \"#bd3786\"], [0.5555555555555556, \"#d8576b\"], [0.6666666666666666, \"#ed7953\"], [0.7777777777777778, \"#fb9f3a\"], [0.8888888888888888, \"#fdca26\"], [1.0, \"#f0f921\"]], \"type\": \"contour\"}], \"contourcarpet\": [{\"colorbar\": {\"outlinewidth\": 0, \"ticks\": \"\"}, \"type\": \"contourcarpet\"}], \"heatmap\": [{\"colorbar\": {\"outlinewidth\": 0, \"ticks\": \"\"}, \"colorscale\": [[0.0, \"#0d0887\"], [0.1111111111111111, \"#46039f\"], [0.2222222222222222, \"#7201a8\"], [0.3333333333333333, \"#9c179e\"], [0.4444444444444444, \"#bd3786\"], [0.5555555555555556, \"#d8576b\"], [0.6666666666666666, \"#ed7953\"], [0.7777777777777778, \"#fb9f3a\"], [0.8888888888888888, \"#fdca26\"], [1.0, \"#f0f921\"]], \"type\": \"heatmap\"}], \"heatmapgl\": [{\"colorbar\": {\"outlinewidth\": 0, \"ticks\": \"\"}, \"colorscale\": [[0.0, \"#0d0887\"], [0.1111111111111111, \"#46039f\"], [0.2222222222222222, \"#7201a8\"], [0.3333333333333333, \"#9c179e\"], [0.4444444444444444, \"#bd3786\"], [0.5555555555555556, \"#d8576b\"], [0.6666666666666666, \"#ed7953\"], [0.7777777777777778, \"#fb9f3a\"], [0.8888888888888888, \"#fdca26\"], [1.0, \"#f0f921\"]], \"type\": \"heatmapgl\"}], \"histogram\": [{\"marker\": {\"colorbar\": {\"outlinewidth\": 0, \"ticks\": \"\"}}, \"type\": \"histogram\"}], \"histogram2d\": [{\"colorbar\": {\"outlinewidth\": 0, \"ticks\": \"\"}, \"colorscale\": [[0.0, \"#0d0887\"], [0.1111111111111111, \"#46039f\"], [0.2222222222222222, \"#7201a8\"], [0.3333333333333333, \"#9c179e\"], [0.4444444444444444, \"#bd3786\"], [0.5555555555555556, \"#d8576b\"], [0.6666666666666666, \"#ed7953\"], [0.7777777777777778, \"#fb9f3a\"], [0.8888888888888888, \"#fdca26\"], [1.0, \"#f0f921\"]], \"type\": \"histogram2d\"}], \"histogram2dcontour\": [{\"colorbar\": {\"outlinewidth\": 0, \"ticks\": \"\"}, \"colorscale\": [[0.0, \"#0d0887\"], [0.1111111111111111, \"#46039f\"], [0.2222222222222222, \"#7201a8\"], [0.3333333333333333, \"#9c179e\"], [0.4444444444444444, \"#bd3786\"], [0.5555555555555556, \"#d8576b\"], [0.6666666666666666, \"#ed7953\"], [0.7777777777777778, \"#fb9f3a\"], [0.8888888888888888, \"#fdca26\"], [1.0, \"#f0f921\"]], \"type\": \"histogram2dcontour\"}], \"mesh3d\": [{\"colorbar\": {\"outlinewidth\": 0, \"ticks\": \"\"}, \"type\": \"mesh3d\"}], \"parcoords\": [{\"line\": {\"colorbar\": {\"outlinewidth\": 0, \"ticks\": \"\"}}, \"type\": \"parcoords\"}], \"pie\": [{\"automargin\": true, \"type\": \"pie\"}], \"scatter\": [{\"marker\": {\"colorbar\": {\"outlinewidth\": 0, \"ticks\": \"\"}}, \"type\": \"scatter\"}], \"scatter3d\": [{\"line\": {\"colorbar\": {\"outlinewidth\": 0, \"ticks\": \"\"}}, \"marker\": {\"colorbar\": {\"outlinewidth\": 0, \"ticks\": \"\"}}, \"type\": \"scatter3d\"}], \"scattercarpet\": [{\"marker\": {\"colorbar\": {\"outlinewidth\": 0, \"ticks\": \"\"}}, \"type\": \"scattercarpet\"}], \"scattergeo\": [{\"marker\": {\"colorbar\": {\"outlinewidth\": 0, \"ticks\": \"\"}}, \"type\": \"scattergeo\"}], \"scattergl\": [{\"marker\": {\"colorbar\": {\"outlinewidth\": 0, \"ticks\": \"\"}}, \"type\": \"scattergl\"}], \"scattermapbox\": [{\"marker\": {\"colorbar\": {\"outlinewidth\": 0, \"ticks\": \"\"}}, \"type\": \"scattermapbox\"}], \"scatterpolar\": [{\"marker\": {\"colorbar\": {\"outlinewidth\": 0, \"ticks\": \"\"}}, \"type\": \"scatterpolar\"}], \"scatterpolargl\": [{\"marker\": {\"colorbar\": {\"outlinewidth\": 0, \"ticks\": \"\"}}, \"type\": \"scatterpolargl\"}], \"scatterternary\": [{\"marker\": {\"colorbar\": {\"outlinewidth\": 0, \"ticks\": \"\"}}, \"type\": \"scatterternary\"}], \"surface\": [{\"colorbar\": {\"outlinewidth\": 0, \"ticks\": \"\"}, \"colorscale\": [[0.0, \"#0d0887\"], [0.1111111111111111, \"#46039f\"], [0.2222222222222222, \"#7201a8\"], [0.3333333333333333, \"#9c179e\"], [0.4444444444444444, \"#bd3786\"], [0.5555555555555556, \"#d8576b\"], [0.6666666666666666, \"#ed7953\"], [0.7777777777777778, \"#fb9f3a\"], [0.8888888888888888, \"#fdca26\"], [1.0, \"#f0f921\"]], \"type\": \"surface\"}], \"table\": [{\"cells\": {\"fill\": {\"color\": \"#EBF0F8\"}, \"line\": {\"color\": \"white\"}}, \"header\": {\"fill\": {\"color\": \"#C8D4E3\"}, \"line\": {\"color\": \"white\"}}, \"type\": \"table\"}]}, \"layout\": {\"annotationdefaults\": {\"arrowcolor\": \"#2a3f5f\", \"arrowhead\": 0, \"arrowwidth\": 1}, \"coloraxis\": {\"colorbar\": {\"outlinewidth\": 0, \"ticks\": \"\"}}, \"colorscale\": {\"diverging\": [[0, \"#8e0152\"], [0.1, \"#c51b7d\"], [0.2, \"#de77ae\"], [0.3, \"#f1b6da\"], [0.4, \"#fde0ef\"], [0.5, \"#f7f7f7\"], [0.6, \"#e6f5d0\"], [0.7, \"#b8e186\"], [0.8, \"#7fbc41\"], [0.9, \"#4d9221\"], [1, \"#276419\"]], \"sequential\": [[0.0, \"#0d0887\"], [0.1111111111111111, \"#46039f\"], [0.2222222222222222, \"#7201a8\"], [0.3333333333333333, \"#9c179e\"], [0.4444444444444444, \"#bd3786\"], [0.5555555555555556, \"#d8576b\"], [0.6666666666666666, \"#ed7953\"], [0.7777777777777778, \"#fb9f3a\"], [0.8888888888888888, \"#fdca26\"], [1.0, \"#f0f921\"]], \"sequentialminus\": [[0.0, \"#0d0887\"], [0.1111111111111111, \"#46039f\"], [0.2222222222222222, \"#7201a8\"], [0.3333333333333333, \"#9c179e\"], [0.4444444444444444, \"#bd3786\"], [0.5555555555555556, \"#d8576b\"], [0.6666666666666666, \"#ed7953\"], [0.7777777777777778, \"#fb9f3a\"], [0.8888888888888888, \"#fdca26\"], [1.0, \"#f0f921\"]]}, \"colorway\": [\"#636efa\", \"#EF553B\", \"#00cc96\", \"#ab63fa\", \"#FFA15A\", \"#19d3f3\", \"#FF6692\", \"#B6E880\", \"#FF97FF\", \"#FECB52\"], \"font\": {\"color\": \"#2a3f5f\"}, \"geo\": {\"bgcolor\": \"white\", \"lakecolor\": \"white\", \"landcolor\": \"#E5ECF6\", \"showlakes\": true, \"showland\": true, \"subunitcolor\": \"white\"}, \"hoverlabel\": {\"align\": \"left\"}, \"hovermode\": \"closest\", \"mapbox\": {\"style\": \"light\"}, \"paper_bgcolor\": \"white\", \"plot_bgcolor\": \"#E5ECF6\", \"polar\": {\"angularaxis\": {\"gridcolor\": \"white\", \"linecolor\": \"white\", \"ticks\": \"\"}, \"bgcolor\": \"#E5ECF6\", \"radialaxis\": {\"gridcolor\": \"white\", \"linecolor\": \"white\", \"ticks\": \"\"}}, \"scene\": {\"xaxis\": {\"backgroundcolor\": \"#E5ECF6\", \"gridcolor\": \"white\", \"gridwidth\": 2, \"linecolor\": \"white\", \"showbackground\": true, \"ticks\": \"\", \"zerolinecolor\": \"white\"}, \"yaxis\": {\"backgroundcolor\": \"#E5ECF6\", \"gridcolor\": \"white\", \"gridwidth\": 2, \"linecolor\": \"white\", \"showbackground\": true, \"ticks\": \"\", \"zerolinecolor\": \"white\"}, \"zaxis\": {\"backgroundcolor\": \"#E5ECF6\", \"gridcolor\": \"white\", \"gridwidth\": 2, \"linecolor\": \"white\", \"showbackground\": true, \"ticks\": \"\", \"zerolinecolor\": \"white\"}}, \"shapedefaults\": {\"line\": {\"color\": \"#2a3f5f\"}}, \"ternary\": {\"aaxis\": {\"gridcolor\": \"white\", \"linecolor\": \"white\", \"ticks\": \"\"}, \"baxis\": {\"gridcolor\": \"white\", \"linecolor\": \"white\", \"ticks\": \"\"}, \"bgcolor\": \"#E5ECF6\", \"caxis\": {\"gridcolor\": \"white\", \"linecolor\": \"white\", \"ticks\": \"\"}}, \"title\": {\"x\": 0.05}, \"xaxis\": {\"automargin\": true, \"gridcolor\": \"white\", \"linecolor\": \"white\", \"ticks\": \"\", \"title\": {\"standoff\": 15}, \"zerolinecolor\": \"white\", \"zerolinewidth\": 2}, \"yaxis\": {\"automargin\": true, \"gridcolor\": \"white\", \"linecolor\": \"white\", \"ticks\": \"\", \"title\": {\"standoff\": 15}, \"zerolinecolor\": \"white\", \"zerolinewidth\": 2}}}, \"xaxis\": {\"anchor\": \"y\", \"domain\": [0.0, 1.0], \"title\": {\"text\": \"diagnoses_0_primary_disease_site_\"}}, \"yaxis\": {\"anchor\": \"x\", \"domain\": [0.0, 1.0], \"title\": {\"text\": \"demographic_sex_\"}}},\n",
       "                        {\"responsive\": true}\n",
       "                    ).then(function(){\n",
       "                            \n",
       "var gd = document.getElementById('e9e8773b-f369-4920-86fb-05f3b4444d5e');\n",
       "var x = new MutationObserver(function (mutations, observer) {{\n",
       "        var display = window.getComputedStyle(gd).display;\n",
       "        if (!display || display === 'none') {{\n",
       "            console.log([gd, 'removed!']);\n",
       "            Plotly.purge(gd);\n",
       "            observer.disconnect();\n",
       "        }}\n",
       "}});\n",
       "\n",
       "// Listen for the removal of the full notebook cells\n",
       "var notebookContainer = gd.closest('#notebook-container');\n",
       "if (notebookContainer) {{\n",
       "    x.observe(notebookContainer, {childList: true});\n",
       "}}\n",
       "\n",
       "// Listen for the clearing of the current output cell\n",
       "var outputEl = gd.closest('.output');\n",
       "if (outputEl) {{\n",
       "    x.observe(outputEl, {childList: true});\n",
       "}}\n",
       "\n",
       "                        })\n",
       "                };\n",
       "                });\n",
       "            </script>\n",
       "        </div>"
      ]
     },
     "metadata": {},
     "output_type": "display_data"
    }
   ],
   "source": [
    "main('graph', \"diagnoses_0_primary_disease_site_\", \"demographic_sex_\" )"
   ]
  },
  {
   "cell_type": "code",
   "execution_count": null,
   "metadata": {},
   "outputs": [],
   "source": []
  }
 ],
 "metadata": {
  "kernelspec": {
   "display_name": "Python 3",
   "language": "python",
   "name": "python3"
  },
  "language_info": {
   "codemirror_mode": {
    "name": "ipython",
    "version": 3
   },
   "file_extension": ".py",
   "mimetype": "text/x-python",
   "name": "python",
   "nbconvert_exporter": "python",
   "pygments_lexer": "ipython3",
   "version": "3.7.3"
  }
 },
 "nbformat": 4,
 "nbformat_minor": 2
}
